{
 "cells": [
  {
   "cell_type": "markdown",
   "id": "87fdbb7b-8b59-49f1-87e3-eca5a22cb08c",
   "metadata": {},
   "source": [
    "# SSD 구현하기"
   ]
  },
  {
   "cell_type": "markdown",
   "id": "99c5c934-14b1-43dc-8b83-35ee60c83b90",
   "metadata": {},
   "source": [
    "# SSD Process\n",
    "\n",
    "1. 입력 이미지의 크기를 300*300으로 리사이징\n",
    "\n",
    "2. default box(DBox)를 여러 개 생성\n",
    "\n",
    "3. 전처리 한 이미지를 SSD network에 입력\n",
    "\n",
    "4. 신뢰도 높은 DBox를 top_k개 추출, label은 가장 높은 신뢰도\n",
    "\n",
    "5. 오프셋 정보를 사용하여 default box를 bounding box(Bbox)로 변형\n",
    "\n",
    "6. 최종 BBox와 label을 출력"
   ]
  },
  {
   "cell_type": "markdown",
   "id": "0f6cec68-806c-4746-b7d7-f141b4d96232",
   "metadata": {},
   "source": [
    "# 최소 환경\n",
    "\n",
    "Python > 3.6\n",
    "\n",
    "PyTorch  > 1.0  "
   ]
  },
  {
   "cell_type": "markdown",
   "id": "99695d5a-981a-4795-bedf-d0267ba825bd",
   "metadata": {},
   "source": [
    "# 라이브러리 설치"
   ]
  },
  {
   "cell_type": "code",
   "execution_count": 1,
   "id": "cb32f30d-04fa-4be9-8bec-d8c23145cc9b",
   "metadata": {},
   "outputs": [],
   "source": [
    "from math import sqrt\n",
    "from itertools import product\n",
    "import os.path as osp\n",
    "import pandas as pd\n",
    "import numpy as np\n",
    "import matplotlib.pyplot as plt\n",
    "import torch\n",
    "from torch.autograd import Function\n",
    "import torch.nn as nn\n",
    "import torch.nn.functional as F\n",
    "import torch.nn.init as init\n",
    "import torch.optim as optim\n",
    "import torch.utils.data as data\n",
    "import random\n",
    "import time\n",
    "import xml.etree.ElementTree as ET\n",
    "import cv2\n",
    "%matplotlib inline"
   ]
  },
  {
   "cell_type": "code",
   "execution_count": 2,
   "id": "6983bfa1-fc72-4562-bf15-5d8e82ab6167",
   "metadata": {},
   "outputs": [
    {
     "name": "stdout",
     "output_type": "stream",
     "text": [
      "importing Jupyter notebook from data_augmentation.ipynb\n",
      "importing Jupyter notebook from match.ipynb\n"
     ]
    }
   ],
   "source": [
    "#utils folder에 있는 data agumentation.py에서 import \n",
    "import import_ipynb\n",
    "from data_augmentation import * #따로 모듈화한 함수들 import\n",
    "from match import * #따로 모듈화한 함수들 import"
   ]
  },
  {
   "cell_type": "markdown",
   "id": "cc0aa4e1-0ddb-4a59-9a88-29017d138c7b",
   "metadata": {},
   "source": [
    "# Voc dataset root"
   ]
  },
  {
   "cell_type": "code",
   "execution_count": 71,
   "id": "a411af04-64e2-4cc3-a5d2-7aa7f47ef6e8",
   "metadata": {},
   "outputs": [],
   "source": [
    "root_path='C:/Users/user/Desktop/SSD/data/VOCdevkit/VOC2012/'"
   ]
  },
  {
   "cell_type": "markdown",
   "id": "a34f2145-d159-4906-bd9b-7ba7689b44c8",
   "metadata": {},
   "source": [
    "# Class 리스트 작성"
   ]
  },
  {
   "cell_type": "code",
   "execution_count": 4,
   "id": "d09218a6-808d-4a49-a096-26cabcde0389",
   "metadata": {},
   "outputs": [],
   "source": [
    "voc_classes = ['aeroplane', 'bicycle', 'bird', 'boat', 'bottle', 'bus', 'car', 'cat','chair', 'cow', 'diningtable', 'dog', 'horse', 'motorbike', 'person', 'pottedplant','sheep','sofa','train','tvmonitor']"
   ]
  },
  {
   "cell_type": "code",
   "execution_count": 5,
   "id": "8a0caba2-b617-4538-b20c-cc12f0047a30",
   "metadata": {},
   "outputs": [],
   "source": [
    "# SSD 300 설정\n",
    "\n",
    "ssd_cfg = {'num_classes' : 21,'input_size' : 300,\n",
    "    'bbox_aspect_num' : [4, 6, 6, 6, 4, 4], # 출력할 DBox 화면비 종류\n",
    "    'feature_maps' : [38, 19, 10, 5, 3, 1], # 각 source의 이미지 크기->38부터 있는 이유->38x38사이즈 부터 Detector&classifier 진행됨\n",
    "    'steps' : [8, 16, 32, 64, 100, 300], # DBox 크기 결정\n",
    "    'min_sizes' : [30, 60, 111, 162, 213, 264], # DBox 크기 결정\n",
    "    'max_sizes' : [60, 111, 162, 213, 264, 315], # DBox 크기 결정\n",
    "    'aspect_ratios' : [[2], [2,3], [2,3], [2,3], [2], [2]],\n",
    "}"
   ]
  },
  {
   "cell_type": "code",
   "execution_count": 6,
   "id": "8ddfa350-2105-4b7c-918d-648f24faa25a",
   "metadata": {},
   "outputs": [
    {
     "data": {
      "text/plain": [
       "{'num_classes': 21,\n",
       " 'input_size': 300,\n",
       " 'bbox_aspect_num': [4, 6, 6, 6, 4, 4],\n",
       " 'feature_maps': [38, 19, 10, 5, 3, 1],\n",
       " 'steps': [8, 16, 32, 64, 100, 300],\n",
       " 'min_sizes': [30, 60, 111, 162, 213, 264],\n",
       " 'max_sizes': [60, 111, 162, 213, 264, 315],\n",
       " 'aspect_ratios': [[2], [2, 3], [2, 3], [2, 3], [2], [2]]}"
      ]
     },
     "execution_count": 6,
     "metadata": {},
     "output_type": "execute_result"
    }
   ],
   "source": [
    "ssd_cfg"
   ]
  },
  {
   "cell_type": "code",
   "execution_count": 7,
   "id": "8cfec97a-b76d-4a9b-b078-73ac7017fdce",
   "metadata": {},
   "outputs": [],
   "source": [
    "def make_datapath_list(rootpath):\n",
    "    \"\"\"\n",
    "    데이터 경로를 저장한 리스트 작성\n",
    "    Parameters\n",
    "    ----------\n",
    "    rootpath : str\n",
    "        데이터 폴더의 경로\n",
    "    Returns\n",
    "    -------\n",
    "    ret : train_img_list, train_anno_list, val_img_list, val_anno_list\n",
    "        데이터 경로 저장 리스트\n",
    "    \"\"\"\n",
    "\n",
    "    # 화상 파일과 어노테이션 파일의 경로 템플릿 작성\n",
    "    imgpath_template = osp.join(rootpath, 'JPEGImages', '%s.jpg')\n",
    "    annopath_template = osp.join(rootpath, 'Annotations', '%s.xml')\n",
    "\n",
    "    # 훈련 및 검증 파일 ID 취득\n",
    "    train_id_names = osp.join(rootpath + 'ImageSets/Main/train.txt') #트레인 이미지 리스트 들어있는 txt파일\n",
    "    val_id_names = osp.join(rootpath + 'ImageSets/Main/val.txt') #벨리데이션 이미지 리스트 들어있는 txt파일\n",
    "\n",
    "    # 훈련 데이터의 화상파일과 어노테이션 파일의 경로 리스트 작성\n",
    "    train_img_list = list() #빈 리스트 생성_이미지\n",
    "    train_anno_list = list() #빈 리스트 생성_라벨링\n",
    "\n",
    "    for line in open(train_id_names):\n",
    "        file_id = line.strip()  # 공백 및 줄바꿈 제거\n",
    "        img_path = (imgpath_template % file_id)  # img_path+train_id_names 합치기\n",
    "        anno_path = (annopath_template % file_id)  # anno_path+train_anno_list 합치기\n",
    "        train_img_list.append(img_path)  # 리스트에 추가\n",
    "        train_anno_list.append(anno_path)  # 리스트에 추가\n",
    "\n",
    "    # 검증 데이터의 화상 파일과 어노테이션 파일의 경로 리스트 작성\n",
    "    val_img_list = list()\n",
    "    val_anno_list = list()\n",
    "\n",
    "    for line in open(val_id_names):\n",
    "        file_id = line.strip()  # 공백과 줄바꿈 제거\n",
    "        img_path = (imgpath_template % file_id) # 화상 경로\n",
    "        anno_path = (annopath_template % file_id)  # 어노테이션 경로\n",
    "        val_img_list.append(img_path)  # 리스트에 추가\n",
    "        val_anno_list.append(anno_path)  # 리스트에 추가\n",
    "\n",
    "    return train_img_list, train_anno_list, val_img_list, val_anno_list"
   ]
  },
  {
   "cell_type": "code",
   "execution_count": 8,
   "id": "44e4a2dd-ba8b-4ac5-912c-df370e4ec0cf",
   "metadata": {},
   "outputs": [],
   "source": [
    "train_img_list, train_anno_list, val_img_list, val_anno_list=make_datapath_list(rootpath=root)"
   ]
  },
  {
   "cell_type": "markdown",
   "id": "fc74c9b2-d84d-4389-9644-c838b6098352",
   "metadata": {},
   "source": [
    "# XML 파일 열기"
   ]
  },
  {
   "cell_type": "code",
   "execution_count": 9,
   "id": "a896a24e-eb0e-43b0-b83d-7dbfcaf4b58c",
   "metadata": {},
   "outputs": [],
   "source": [
    "tree = ET.parse('C:/Users/user/Desktop/SSD/data/VOCdevkit/VOC2012/Annotations/2007_000027.xml')\n",
    "root = tree.getroot()"
   ]
  },
  {
   "cell_type": "code",
   "execution_count": 10,
   "id": "92ed7e33-362f-4d66-bcde-d9cd3ec8c485",
   "metadata": {},
   "outputs": [],
   "source": [
    "# XML structure 확인\n",
    "def print_element(element, indent=\"\"):\n",
    "    # Print the element tag and attributes\n",
    "    print(f\"{indent}Tag: {element.tag}\")\n",
    "    print(f\"{indent}Attributes: {element.attrib}\")\n",
    "\n",
    "    # Print the element text if it exists\n",
    "    if element.text:\n",
    "        print(f\"{indent}Text: {element.text.strip()}\")\n",
    "\n",
    "    # Print the child elements recursively\n",
    "    for child in element:\n",
    "        print_element(child, indent + \"  \")"
   ]
  },
  {
   "cell_type": "code",
   "execution_count": 11,
   "id": "3317ccaa-fc03-41ab-8c10-6f31c390464c",
   "metadata": {
    "tags": []
   },
   "outputs": [
    {
     "name": "stdout",
     "output_type": "stream",
     "text": [
      "Tag: annotation\n",
      "Attributes: {}\n",
      "Text: \n",
      "  Tag: folder\n",
      "  Attributes: {}\n",
      "  Text: VOC2012\n",
      "  Tag: filename\n",
      "  Attributes: {}\n",
      "  Text: 2007_000027.jpg\n",
      "  Tag: source\n",
      "  Attributes: {}\n",
      "  Text: \n",
      "    Tag: database\n",
      "    Attributes: {}\n",
      "    Text: The VOC2007 Database\n",
      "    Tag: annotation\n",
      "    Attributes: {}\n",
      "    Text: PASCAL VOC2007\n",
      "    Tag: image\n",
      "    Attributes: {}\n",
      "    Text: flickr\n",
      "  Tag: size\n",
      "  Attributes: {}\n",
      "  Text: \n",
      "    Tag: width\n",
      "    Attributes: {}\n",
      "    Text: 486\n",
      "    Tag: height\n",
      "    Attributes: {}\n",
      "    Text: 500\n",
      "    Tag: depth\n",
      "    Attributes: {}\n",
      "    Text: 3\n",
      "  Tag: segmented\n",
      "  Attributes: {}\n",
      "  Text: 0\n",
      "  Tag: object\n",
      "  Attributes: {}\n",
      "  Text: \n",
      "    Tag: name\n",
      "    Attributes: {}\n",
      "    Text: person\n",
      "    Tag: pose\n",
      "    Attributes: {}\n",
      "    Text: Unspecified\n",
      "    Tag: truncated\n",
      "    Attributes: {}\n",
      "    Text: 0\n",
      "    Tag: difficult\n",
      "    Attributes: {}\n",
      "    Text: 0\n",
      "    Tag: bndbox\n",
      "    Attributes: {}\n",
      "    Text: \n",
      "      Tag: xmin\n",
      "      Attributes: {}\n",
      "      Text: 174\n",
      "      Tag: ymin\n",
      "      Attributes: {}\n",
      "      Text: 101\n",
      "      Tag: xmax\n",
      "      Attributes: {}\n",
      "      Text: 349\n",
      "      Tag: ymax\n",
      "      Attributes: {}\n",
      "      Text: 351\n",
      "    Tag: part\n",
      "    Attributes: {}\n",
      "    Text: \n",
      "      Tag: name\n",
      "      Attributes: {}\n",
      "      Text: head\n",
      "      Tag: bndbox\n",
      "      Attributes: {}\n",
      "      Text: \n",
      "        Tag: xmin\n",
      "        Attributes: {}\n",
      "        Text: 169\n",
      "        Tag: ymin\n",
      "        Attributes: {}\n",
      "        Text: 104\n",
      "        Tag: xmax\n",
      "        Attributes: {}\n",
      "        Text: 209\n",
      "        Tag: ymax\n",
      "        Attributes: {}\n",
      "        Text: 146\n",
      "    Tag: part\n",
      "    Attributes: {}\n",
      "    Text: \n",
      "      Tag: name\n",
      "      Attributes: {}\n",
      "      Text: hand\n",
      "      Tag: bndbox\n",
      "      Attributes: {}\n",
      "      Text: \n",
      "        Tag: xmin\n",
      "        Attributes: {}\n",
      "        Text: 278\n",
      "        Tag: ymin\n",
      "        Attributes: {}\n",
      "        Text: 210\n",
      "        Tag: xmax\n",
      "        Attributes: {}\n",
      "        Text: 297\n",
      "        Tag: ymax\n",
      "        Attributes: {}\n",
      "        Text: 233\n",
      "    Tag: part\n",
      "    Attributes: {}\n",
      "    Text: \n",
      "      Tag: name\n",
      "      Attributes: {}\n",
      "      Text: foot\n",
      "      Tag: bndbox\n",
      "      Attributes: {}\n",
      "      Text: \n",
      "        Tag: xmin\n",
      "        Attributes: {}\n",
      "        Text: 273\n",
      "        Tag: ymin\n",
      "        Attributes: {}\n",
      "        Text: 333\n",
      "        Tag: xmax\n",
      "        Attributes: {}\n",
      "        Text: 297\n",
      "        Tag: ymax\n",
      "        Attributes: {}\n",
      "        Text: 354\n",
      "    Tag: part\n",
      "    Attributes: {}\n",
      "    Text: \n",
      "      Tag: name\n",
      "      Attributes: {}\n",
      "      Text: foot\n",
      "      Tag: bndbox\n",
      "      Attributes: {}\n",
      "      Text: \n",
      "        Tag: xmin\n",
      "        Attributes: {}\n",
      "        Text: 319\n",
      "        Tag: ymin\n",
      "        Attributes: {}\n",
      "        Text: 307\n",
      "        Tag: xmax\n",
      "        Attributes: {}\n",
      "        Text: 340\n",
      "        Tag: ymax\n",
      "        Attributes: {}\n",
      "        Text: 326\n"
     ]
    }
   ],
   "source": [
    "print_element(root)"
   ]
  },
  {
   "cell_type": "markdown",
   "id": "5315a2dc-6432-416f-b903-b0fdb583a003",
   "metadata": {},
   "source": [
    "# Anno_xml->List"
   ]
  },
  {
   "cell_type": "code",
   "execution_count": 12,
   "id": "b36396ab-bdd5-4a55-bb78-8bb6c496af07",
   "metadata": {},
   "outputs": [],
   "source": [
    "class Anno_xml2list(object):\n",
    "    \"\"\"\n",
    "    한 화상의 XML 형식 어노테이션 데이터를 화상 크기로 규격화하여 리스트 형식으로 변환\n",
    "    \n",
    "    Attributes\n",
    "    ----------\n",
    "    classes : 리스트\n",
    "        VOC의 클래스명을 저장한 클래스\n",
    "    \"\"\"\n",
    "\n",
    "    def __init__(self, classes):\n",
    "\n",
    "        self.classes = classes\n",
    "\n",
    "    def __call__(self, xml_path, width, height):\n",
    "        \"\"\"\n",
    "        한 화상의 XML 형식 어노테이션 데이터를 화상 크기로 규격화하여 리스트 형식으로 변환\n",
    "        Parameters\n",
    "        ----------\n",
    "        xml_path : str\n",
    "            xml 파일 경로\n",
    "        width : int\n",
    "            대상 화상 폭\n",
    "        height : int\n",
    "            대상 화상 높이\n",
    "        Returns\n",
    "        -------\n",
    "        ret : [[xmin, ymin, xmax, ymax, label_ind], ... ]\n",
    "            물체의 어노테이션 데이터를 저장한 리스트. 화상에 존재하는 물체 수만큼의 요소를 가짐.\n",
    "        \"\"\"\n",
    "\n",
    "        # 화상 내 모든 물체의 어노테이션을 이 리스트에 저장\n",
    "        ret = []\n",
    "\n",
    "        # XML 파일 로드\n",
    "        xml = ET.parse(xml_path).getroot()\n",
    "\n",
    "        # 화상 내 물체의 수 만큼 반복\n",
    "        for obj in xml.iter('object'):\n",
    "\n",
    "            # annotation에서 검지가 difficult로 설정된 것은 제외\n",
    "            difficult = int(obj.find('difficult').text)\n",
    "            if difficult == 1:\n",
    "                continue\n",
    "\n",
    "            # 한 물체의 어노테이션을 저장하는 리스트\n",
    "            bndbox = []\n",
    "\n",
    "            name = obj.find('name').text.lower().strip()  # 물체 이름, foot, car 등등 이러한 물체의 이름->한 사진의 여러개의 물체가 들어갈 수 있음\n",
    "            bbox = obj.find('bndbox')  # 바운딩 박스 정보, 각 물체에 대한 좌표값(xmin,ymin,xmax,ymax)\n",
    "\n",
    "            # 어노테이션의 xmin, ymin, xmax, ymax를 취득하고, 0 ~ 1로 규격화\n",
    "            pts = ['xmin', 'ymin', 'xmax', 'ymax']\n",
    "\n",
    "            for pt in (pts):\n",
    "                # VOC는 원점이 (1, 1)이므로 1을 빼서 (0, 0)으로 한다.\n",
    "                cur_pixel = int(bbox.find(pt).text) - 1 #물체에 대한 바운딩박스 좌표 찾기\n",
    "\n",
    "                # 폭, 높이로 규격화\n",
    "                if pt == 'xmin' or pt == 'xmax':  # x 방향의 경우 폭으로 나눔.\n",
    "                    cur_pixel /= width \n",
    "                else:  # y방향의 경우 높이로 나눔.\n",
    "                    cur_pixel /= height\n",
    "\n",
    "                bndbox.append(cur_pixel) #빈리스트에 한 이미지당 물체에 대한 바운딩박스 정보 추가\n",
    "\n",
    "            # 어노테이션 클래스명 index를 취득하여 추가\n",
    "            label_idx = self.classes.index(name) #라벨명 index number로 변환\n",
    "            bndbox.append(label_idx) #바운딩박스 좌표+라벨 넘버\n",
    "\n",
    "            # res에 [xmin, ymin, xmax, ymax, label_ind]를 더한다.\n",
    "            ret += [bndbox] #빈리스트에 저장\n",
    "\n",
    "        return np.array(ret)  # [[xmin, ymin, xmax, ymax, label_ind], ... ] array형태로 변환"
   ]
  },
  {
   "cell_type": "code",
   "execution_count": 13,
   "id": "023b1d13-fa21-4834-adbd-eaf2f8fe4076",
   "metadata": {},
   "outputs": [],
   "source": [
    "transform_anno = Anno_xml2list(voc_classes)"
   ]
  },
  {
   "cell_type": "code",
   "execution_count": 14,
   "id": "eed218b4-fa3a-45a0-8324-7fb8810008fb",
   "metadata": {},
   "outputs": [],
   "source": [
    "classes = ['aeroplane', 'bicycle', 'bird', 'boat', 'bottle', 'bus', 'car', 'cat','chair', 'cow', 'diningtable', 'dog', 'horse', 'motorbike', 'person', 'pottedplant','sheep','sofa','train','tvmonitor']"
   ]
  },
  {
   "cell_type": "code",
   "execution_count": 15,
   "id": "552346bb-e54a-41b3-b634-2ef2094db059",
   "metadata": {},
   "outputs": [
    {
     "data": {
      "text/plain": [
       "'C:/Users/user/Desktop/SSD/data/VOCdevkit/VOC2012/JPEGImages\\\\2008_000002.jpg'"
      ]
     },
     "execution_count": 15,
     "metadata": {},
     "output_type": "execute_result"
    }
   ],
   "source": [
    "val_img_list[0]"
   ]
  },
  {
   "cell_type": "markdown",
   "id": "75f76ed0-3ceb-4c43-a753-1f9ca11dfdbc",
   "metadata": {},
   "source": [
    "# 화상 로드용 Opencv 사용"
   ]
  },
  {
   "cell_type": "code",
   "execution_count": 16,
   "id": "d33b1d8e-d1f4-4de6-a332-c42da02750cf",
   "metadata": {},
   "outputs": [
    {
     "name": "stdout",
     "output_type": "stream",
     "text": [
      "<class 'numpy.ndarray'>\n",
      "333\n",
      "500\n",
      "3\n"
     ]
    }
   ],
   "source": [
    "ind = 1\n",
    "img_file_path = val_img_list[ind]\n",
    "img = cv2.imread(img_file_path) # [높이][폭][색BGR->이미지numpy로 변환\n",
    "print(type(img))\n",
    "height, width, channels = img.shape # 화상 크기 취득\n",
    "print(height)\n",
    "print(width)\n",
    "print(channels)"
   ]
  },
  {
   "cell_type": "markdown",
   "id": "b2bb4601-3a4e-4e26-88f4-ef4f10210eff",
   "metadata": {},
   "source": [
    "# Data Transform"
   ]
  },
  {
   "cell_type": "code",
   "execution_count": 17,
   "id": "8f4ccebe-ba00-491b-8a0f-61b008fd2a90",
   "metadata": {},
   "outputs": [],
   "source": [
    "import torchvision.transforms as transforms"
   ]
  },
  {
   "cell_type": "markdown",
   "id": "cd81f3c9-497e-4673-8bf2-6a6cc368c19f",
   "metadata": {},
   "source": [
    "# train transform 순서\n",
    "\n",
    "1.SubtractMeans(color_mean): 이미지에서 BGR 색상 평균 값을 뺍니다.\n",
    "\n",
    "2.Resize(input_size): 이미지 크기를 input_size로 변환합니다.\n",
    "\n",
    "3.ToPercentCoords(): 변환된 절대 좌표를 상대적인 비율로 변환합니다.\n",
    "\n",
    "4.ToAbsoluteCoords(): 입력으로 받은 이미지의 바운딩 박스 좌표를 상대 좌표에서 절대 좌표로 변환합니다.\n",
    "\n",
    "5.ConvertFromInts(): 정수 형식의 이미지를 부동 소수점 형식으로 변환합니다."
   ]
  },
  {
   "cell_type": "code",
   "execution_count": 18,
   "id": "1b019dca-32fa-4fc0-ba09-673abadb1584",
   "metadata": {},
   "outputs": [],
   "source": [
    "class DataTransform():\n",
    "    \"\"\"\n",
    "    화상과 어노테이션의 전처리 클래스. 훈련과 추론에서 다르게 작동.\n",
    "    화상 크기를 300*300으로 한다.\n",
    "    학습 시 데이터 확장을 수행.\n",
    "    Attributes\n",
    "    ----------\n",
    "    input_size : int\n",
    "        리사이즈 대상 화상의 크기\n",
    "    color_mean : (B, G, R)\n",
    "        각 색상채널 평균 값\n",
    "    \"\"\"\n",
    "\n",
    "    def __init__(self, input_size, color_mean):\n",
    "        self.data_transform = {\n",
    "            'train': Compose([\n",
    "                ConvertFromInts(),  # int를 float32로 변환(정수 형식의 이미지를 부동 소수점 형식으로 변환)\n",
    "                ToAbsoluteCoords(),  # 입력으로 받은 이미지의 bounding box 좌표를 상대 좌표에서 절대 좌표로 변환(값의 범위는 0에서 1 사이)->실제 이미지 크기와 넓이에 맞게 변환\n",
    "                #PhotometricDistort(),  # 화상의 색조 등 임의 변화\n",
    "                #Expand(color_mean),  # 화상 캔버스 확대\n",
    "                #RandomSampleCrop(),  # 이미지 내 특정 부분 무작위 추출\n",
    "                #RandomMirror(),  # 이미지 반전\n",
    "                ToPercentCoords(),  # 어노테이션 데이터를 0 ~ 1로 규격화->상대적인 비율로 변환=>먼저 상대적인 비율로 바꾸고 추후 ToAbsoluteCoords로 절대적 좌표값으로 바꿈\n",
    "                Resize(input_size),  # 화상 크기를 input_size*input_size로 변형\n",
    "                SubtractMeans(color_mean)  # BGR 색상 평균값 빼기\n",
    "            ]),\n",
    "            'val': Compose([\n",
    "                ConvertFromInts(),  # int를 float32로 변환(정수 형식의 이미지를 부동 소수점 형식으로 변환)\n",
    "                Resize(input_size),  # 화상 크기를 input_size * input_size로 변환\n",
    "                SubtractMeans(color_mean)  # BGR 색상 평균값 빼기\n",
    "            ])\n",
    "        }\n",
    "\n",
    "    def __call__(self, img, phase, boxes, labels):\n",
    "        \"\"\"\n",
    "        Parameters\n",
    "        ----------\n",
    "        phase : 'train' or 'val'\n",
    "            전처리 모드 지정\n",
    "        \"\"\"\n",
    "        return self.data_transform[phase](img, boxes, labels)"
   ]
  },
  {
   "cell_type": "code",
   "execution_count": 19,
   "id": "1b8210d1-f556-4640-ace8-6a9392265ec0",
   "metadata": {},
   "outputs": [],
   "source": [
    "# 1. 이미지 파일 Read\n",
    "image_file_path = train_img_list[0]\n",
    "img = cv2.imread(img_file_path) # [높이][폭][색BGR]->BGR형식으로 저장됨\n",
    "height, width, channels = img.shape # 화상 크기 취득"
   ]
  },
  {
   "cell_type": "code",
   "execution_count": 20,
   "id": "039c2aba-12b8-49c9-b77e-4074ffa5d79c",
   "metadata": {},
   "outputs": [
    {
     "name": "stdout",
     "output_type": "stream",
     "text": [
      "C:/Users/user/Desktop/SSD/data/VOCdevkit/VOC2012/JPEGImages\\2008_000008.jpg\n"
     ]
    }
   ],
   "source": [
    "print(image_file_path)"
   ]
  },
  {
   "cell_type": "code",
   "execution_count": 21,
   "id": "66cc086b-ddd1-442a-bd5f-77d3f87beb2e",
   "metadata": {},
   "outputs": [],
   "source": [
    "# 2. 이미지에 해당하는 어노테이션 파일 리스트 형태로 반환\n",
    "transform_anno = Anno_xml2list(voc_classes)\n",
    "anno_list = transform_anno(train_anno_list[0], width, height) #사진별 width와 height처리"
   ]
  },
  {
   "cell_type": "code",
   "execution_count": 22,
   "id": "51bce8c5-67e9-4dd2-84c6-41d593257a84",
   "metadata": {},
   "outputs": [
    {
     "data": {
      "text/plain": [
       "array([[ 0.104     ,  0.25825826,  0.94      ,  1.25825826, 12.        ],\n",
       "       [ 0.314     ,  0.12912913,  0.576     ,  0.4984985 , 14.        ]])"
      ]
     },
     "execution_count": 22,
     "metadata": {},
     "output_type": "execute_result"
    }
   ],
   "source": [
    "anno_list #(xmin, ymin, xmax, ymax, index_label)"
   ]
  },
  {
   "cell_type": "code",
   "execution_count": 23,
   "id": "d5c56532-5f5c-4324-8262-540d83d24ca0",
   "metadata": {},
   "outputs": [
    {
     "data": {
      "text/plain": [
       "array([[0.104     , 0.25825826, 0.94      , 1.25825826],\n",
       "       [0.314     , 0.12912913, 0.576     , 0.4984985 ]])"
      ]
     },
     "execution_count": 23,
     "metadata": {},
     "output_type": "execute_result"
    }
   ],
   "source": [
    "anno_list[:, :4]"
   ]
  },
  {
   "cell_type": "code",
   "execution_count": 24,
   "id": "fb10e326-dd93-4842-a21b-cbcfd1b9a4ee",
   "metadata": {},
   "outputs": [
    {
     "data": {
      "text/plain": [
       "array([12., 14.])"
      ]
     },
     "execution_count": 24,
     "metadata": {},
     "output_type": "execute_result"
    }
   ],
   "source": [
    "anno_list[:, 4]"
   ]
  },
  {
   "cell_type": "code",
   "execution_count": 25,
   "id": "7ef11dd3-2779-4082-bd23-2bf0c6e52eab",
   "metadata": {},
   "outputs": [
    {
     "data": {
      "image/png": "[encoded data removed]",
      "text/plain": [
       "<Figure size 432x288 with 1 Axes>"
      ]
     },
     "metadata": {
      "needs_background": "light"
     },
     "output_type": "display_data"
    }
   ],
   "source": [
    "# 3. 이미지 원본 데이터 확인\n",
    "plt.imshow(cv2.cvtColor(img, cv2.COLOR_BGR2RGB))\n",
    "plt.show()"
   ]
  },
  {
   "cell_type": "code",
   "execution_count": 26,
   "id": "8923bf48-bbe0-4663-b9f5-5b4b2c1fb22b",
   "metadata": {},
   "outputs": [],
   "source": [
    "# 4. 전처리 클래스\n",
    "color_mean = (104, 117 ,123) # (bgr) 색상의 평균값->디폴트값임 특정 작업에 따라 달라질 수 있으나 대부분 해당값을 사용함\n",
    "input_size = 300 #SSD는 300x300 이미지 사이즈 사용\n",
    "transform = DataTransform(input_size, color_mean)"
   ]
  },
  {
   "cell_type": "code",
   "execution_count": 27,
   "id": "90bfaff5-b0aa-41fe-8373-70515d6efb50",
   "metadata": {},
   "outputs": [
    {
     "name": "stderr",
     "output_type": "stream",
     "text": [
      "Clipping input data to the valid range for imshow with RGB data ([0..1] for floats or [0..255] for integers).\n"
     ]
    },
    {
     "name": "stdout",
     "output_type": "stream",
     "text": [
      "boxes1 [[ 52.  86. 470. 419.]\n",
      " [157.  43. 288. 166.]]\n"
     ]
    },
    {
     "data": {
      "image/png": "[encoded data removed]",
      "text/plain": [
       "<Figure size 432x288 with 1 Axes>"
      ]
     },
     "metadata": {
      "needs_background": "light"
     },
     "output_type": "display_data"
    }
   ],
   "source": [
    "# 5. Train image\n",
    "phase = 'train' #train버전 변환 \n",
    "img_transformed, boxes, labels = transform(img, phase, anno_list[:, :4], anno_list[:, 4]) #trainsform(이미지, 버전, 박스좌표.라벨링값)\n",
    "plt.imshow(cv2.cvtColor(img_transformed, cv2.COLOR_BGR2RGB))\n",
    "plt.show()"
   ]
  },
  {
   "cell_type": "code",
   "execution_count": 28,
   "id": "632629c4-8fea-4f83-8eae-7af5e0e0e985",
   "metadata": {},
   "outputs": [
    {
     "data": {
      "text/plain": [
       "(300, 300, 3)"
      ]
     },
     "execution_count": 28,
     "metadata": {},
     "output_type": "execute_result"
    }
   ],
   "source": [
    "img_transformed.shape"
   ]
  },
  {
   "cell_type": "code",
   "execution_count": 29,
   "id": "cd878c46-99fc-4817-8a18-983659d11db6",
   "metadata": {
    "tags": []
   },
   "outputs": [
    {
     "data": {
      "text/plain": [
       "array([[[  45.274994  ,   25.941666  ,    0.94166565],\n",
       "        [  55.164993  ,   30.164993  ,    6.1649933 ],\n",
       "        [  62.128326  ,   35.128326  ,   11.128326  ],\n",
       "        ...,\n",
       "        [  12.849998  ,  -18.076668  ,  -22.908333  ],\n",
       "        [  22.055     ,  -14.724998  ,  -13.220001  ],\n",
       "        [  27.816666  ,  -11.8533325 ,   -9.403336  ]],\n",
       "\n",
       "       [[  50.880005  ,   31.436676  ,    6.436676  ],\n",
       "        [  58.33      ,   33.660004  ,    9.660004  ],\n",
       "        [  64.49832   ,   37.828323  ,   13.828323  ],\n",
       "        ...,\n",
       "        [  15.834999  ,  -13.501663  ,  -21.443336  ],\n",
       "        [  21.515     ,  -10.824997  ,  -18.650002  ],\n",
       "        [  22.796669  ,  -10.378334  ,  -18.203339  ]],\n",
       "\n",
       "       [[  56.066666  ,   35.791656  ,   10.883331  ],\n",
       "        [  60.550003  ,   37.550003  ,   13.550003  ],\n",
       "        [  65.149994  ,   40.699997  ,   16.699997  ],\n",
       "        ...,\n",
       "        [  15.64167   ,  -11.841667  ,  -20.991669  ],\n",
       "        [  14.824997  ,  -13.074997  ,  -24.525002  ],\n",
       "        [  14.708336  ,  -14.016663  ,  -25.191666  ]],\n",
       "\n",
       "       ...,\n",
       "\n",
       "       [[  36.71666   ,   -1.9500046 ,  -23.950005  ],\n",
       "        [  43.100006  ,    7.0999985 ,  -14.900002  ],\n",
       "        [  56.24167   ,   20.241669  ,   -1.7583313 ],\n",
       "        ...,\n",
       "        [ -94.75833   , -101.90833   , -108.60833   ],\n",
       "        [ -96.        , -102.        , -111.        ],\n",
       "        [-101.9       , -109.71667   , -117.808334  ]],\n",
       "\n",
       "       [[  32.384995  ,   -6.281662  ,  -28.281662  ],\n",
       "        [  37.824997  ,    1.824997  ,  -20.175003  ],\n",
       "        [  52.436676  ,   16.436676  ,   -5.5633316 ],\n",
       "        ...,\n",
       "        [ -92.16167   , -100.05167   , -104.99333   ],\n",
       "        [ -96.        , -103.67      , -111.835     ],\n",
       "        [-101.886665  , -111.        , -119.        ]],\n",
       "\n",
       "       [[  40.190002  ,    1.5233307 ,  -20.47667   ],\n",
       "        [  37.        ,    1.        ,  -21.        ],\n",
       "        [  45.36667   ,    9.366669  ,  -12.633331  ],\n",
       "        ...,\n",
       "        [ -94.50166   , -102.50166   , -107.168335  ],\n",
       "        [ -99.78      , -107.78      , -115.78      ],\n",
       "        [ -99.14667   , -109.11      , -117.11      ]]], dtype=float32)"
      ]
     },
     "execution_count": 29,
     "metadata": {},
     "output_type": "execute_result"
    }
   ],
   "source": [
    "img_transformed"
   ]
  },
  {
   "cell_type": "code",
   "execution_count": 30,
   "id": "647dc24a-6341-4937-b5a5-cd009ab11551",
   "metadata": {},
   "outputs": [
    {
     "data": {
      "text/plain": [
       "array([[0.104     , 0.25825826, 0.94      , 1.25825826],\n",
       "       [0.314     , 0.12912913, 0.576     , 0.4984985 ]])"
      ]
     },
     "execution_count": 30,
     "metadata": {},
     "output_type": "execute_result"
    }
   ],
   "source": [
    "boxes"
   ]
  },
  {
   "cell_type": "code",
   "execution_count": 31,
   "id": "a0d89448-323d-42d6-bea4-ea8e5a2e6ff6",
   "metadata": {},
   "outputs": [
    {
     "data": {
      "text/plain": [
       "array([12., 14.])"
      ]
     },
     "execution_count": 31,
     "metadata": {},
     "output_type": "execute_result"
    }
   ],
   "source": [
    "labels"
   ]
  },
  {
   "cell_type": "code",
   "execution_count": 32,
   "id": "d07b7528-0c1d-4944-92bd-95d2f7356cac",
   "metadata": {},
   "outputs": [
    {
     "name": "stderr",
     "output_type": "stream",
     "text": [
      "Clipping input data to the valid range for imshow with RGB data ([0..1] for floats or [0..255] for integers).\n"
     ]
    },
    {
     "data": {
      "image/png": "[encoded data removed]",
      "text/plain": [
       "<Figure size 432x288 with 1 Axes>"
      ]
     },
     "metadata": {
      "needs_background": "light"
     },
     "output_type": "display_data"
    }
   ],
   "source": [
    "# 6. Val 이미지\n",
    "phase = 'val'\n",
    "img_transformed, boxes, labels = transform( img, phase, anno_list[:, :4], anno_list[:, 4])\n",
    "plt.imshow(cv2.cvtColor(img_transformed, cv2.COLOR_BGR2RGB))\n",
    "plt.show()"
   ]
  },
  {
   "cell_type": "code",
   "execution_count": 33,
   "id": "6c0c66fd-364d-4097-a648-f3b9db84a32d",
   "metadata": {
    "tags": []
   },
   "outputs": [
    {
     "data": {
      "text/plain": [
       "array([[[  45.274994  ,   25.941666  ,    0.94166565],\n",
       "        [  55.164993  ,   30.164993  ,    6.1649933 ],\n",
       "        [  62.128326  ,   35.128326  ,   11.128326  ],\n",
       "        ...,\n",
       "        [  12.849998  ,  -18.076668  ,  -22.908333  ],\n",
       "        [  22.055     ,  -14.724998  ,  -13.220001  ],\n",
       "        [  27.816666  ,  -11.8533325 ,   -9.403336  ]],\n",
       "\n",
       "       [[  50.880005  ,   31.436676  ,    6.436676  ],\n",
       "        [  58.33      ,   33.660004  ,    9.660004  ],\n",
       "        [  64.49832   ,   37.828323  ,   13.828323  ],\n",
       "        ...,\n",
       "        [  15.834999  ,  -13.501663  ,  -21.443336  ],\n",
       "        [  21.515     ,  -10.824997  ,  -18.650002  ],\n",
       "        [  22.796669  ,  -10.378334  ,  -18.203339  ]],\n",
       "\n",
       "       [[  56.066666  ,   35.791656  ,   10.883331  ],\n",
       "        [  60.550003  ,   37.550003  ,   13.550003  ],\n",
       "        [  65.149994  ,   40.699997  ,   16.699997  ],\n",
       "        ...,\n",
       "        [  15.64167   ,  -11.841667  ,  -20.991669  ],\n",
       "        [  14.824997  ,  -13.074997  ,  -24.525002  ],\n",
       "        [  14.708336  ,  -14.016663  ,  -25.191666  ]],\n",
       "\n",
       "       ...,\n",
       "\n",
       "       [[  36.71666   ,   -1.9500046 ,  -23.950005  ],\n",
       "        [  43.100006  ,    7.0999985 ,  -14.900002  ],\n",
       "        [  56.24167   ,   20.241669  ,   -1.7583313 ],\n",
       "        ...,\n",
       "        [ -94.75833   , -101.90833   , -108.60833   ],\n",
       "        [ -96.        , -102.        , -111.        ],\n",
       "        [-101.9       , -109.71667   , -117.808334  ]],\n",
       "\n",
       "       [[  32.384995  ,   -6.281662  ,  -28.281662  ],\n",
       "        [  37.824997  ,    1.824997  ,  -20.175003  ],\n",
       "        [  52.436676  ,   16.436676  ,   -5.5633316 ],\n",
       "        ...,\n",
       "        [ -92.16167   , -100.05167   , -104.99333   ],\n",
       "        [ -96.        , -103.67      , -111.835     ],\n",
       "        [-101.886665  , -111.        , -119.        ]],\n",
       "\n",
       "       [[  40.190002  ,    1.5233307 ,  -20.47667   ],\n",
       "        [  37.        ,    1.        ,  -21.        ],\n",
       "        [  45.36667   ,    9.366669  ,  -12.633331  ],\n",
       "        ...,\n",
       "        [ -94.50166   , -102.50166   , -107.168335  ],\n",
       "        [ -99.78      , -107.78      , -115.78      ],\n",
       "        [ -99.14667   , -109.11      , -117.11      ]]], dtype=float32)"
      ]
     },
     "execution_count": 33,
     "metadata": {},
     "output_type": "execute_result"
    }
   ],
   "source": [
    "img_transformed"
   ]
  },
  {
   "cell_type": "code",
   "execution_count": 34,
   "id": "6b39561e-491c-4e12-9022-6e5a7589f4b7",
   "metadata": {},
   "outputs": [
    {
     "data": {
      "text/plain": [
       "array([[0.104     , 0.25825826, 0.94      , 1.25825826],\n",
       "       [0.314     , 0.12912913, 0.576     , 0.4984985 ]])"
      ]
     },
     "execution_count": 34,
     "metadata": {},
     "output_type": "execute_result"
    }
   ],
   "source": [
    "boxes"
   ]
  },
  {
   "cell_type": "code",
   "execution_count": 35,
   "id": "5e7d92e5-e454-4676-b7c5-f53ae7fcb2be",
   "metadata": {},
   "outputs": [
    {
     "data": {
      "text/plain": [
       "array([12., 14.])"
      ]
     },
     "execution_count": 35,
     "metadata": {},
     "output_type": "execute_result"
    }
   ],
   "source": [
    "labels"
   ]
  },
  {
   "cell_type": "markdown",
   "id": "5f95ce09-e3bf-4a2e-844f-3523ded7460a",
   "metadata": {},
   "source": [
    "# VOC dataset"
   ]
  },
  {
   "cell_type": "code",
   "execution_count": 36,
   "id": "227ed2a4-2547-4fa9-bf56-15c41ed80e21",
   "metadata": {},
   "outputs": [],
   "source": [
    "from torch.utils.data import Dataset\n",
    "from torch.utils.data import DataLoader"
   ]
  },
  {
   "cell_type": "code",
   "execution_count": 37,
   "id": "53fc9963-c71e-442d-825a-04fdc05e7bd1",
   "metadata": {},
   "outputs": [],
   "source": [
    "class VOCDataset(Dataset): # VOC2012의 데이터셋을 작성하는 클래스. 파이토치의 dataset 클래스를 상속\n",
    "    \"\"\"\n",
    "    ----------\n",
    "    img_list : 리스트\n",
    "        이미지 경로를 저장한 리스트\n",
    "    anno_list : 리스트\n",
    "        어노테이션 경로를 저장한 리스트\n",
    "    phase : 'train' or 'test'\n",
    "        학습 또는 훈련 설정\n",
    "    transform : object\n",
    "        전처리 클래스 인스턴스\n",
    "    transform_anno : object\n",
    "        xml 어노테이션을 리스트로 변환하는 인스턴스\n",
    "    \"\"\"\n",
    "\n",
    "    def __init__(self, img_list, anno_list, phase, transform, transform_anno):\n",
    "        self.img_list = img_list #이미지 경로\n",
    "        self.anno_list = anno_list #어노테이션 파일 경로\n",
    "        self.phase = phase  # train 또는 val 지정\n",
    "        self.transform = transform  # 이미지 변형\n",
    "        self.transform_anno = transform_anno  # 어노테이션 데이터를 xml에서 리스트로 변경\n",
    "\n",
    "    def __len__(self): #전체 이미지 장수 반환\n",
    "        '''화상의 매수 반환'''\n",
    "        return len(self.img_list)\n",
    "\n",
    "    def __getitem__(self, index): #각 이미지 인덱스별 데이터 추출\n",
    "        '''\n",
    "        전처리한 화상의 텐서 형식 데이터와 어노테이션 취득\n",
    "        '''\n",
    "        im, gt, h, w = self.pull_item(index)\n",
    "        return im, gt\n",
    "\n",
    "    def pull_item(self, index):\n",
    "        '''전처리한 화상의 텐서 형식 데이터, 어노테이션, 화상의 높이, 폭 취득'''\n",
    "\n",
    "        # 1. 화상 읽기\n",
    "        image_file_path = self.img_list[index]\n",
    "        img = cv2.imread(image_file_path)  # [높이][폭][색BGR]\n",
    "        height, width, channels = img.shape  # 이미지 너비, 높이, 채널 취득\n",
    "\n",
    "        # 2. xml 형식의 어노테이션 정보를 리스트에 저장\n",
    "        anno_file_path = self.anno_list[index] #인덱스별로 어노테이션 파일 경로\n",
    "        anno_list = self.transform_anno(anno_file_path, width, height) #XML파일->List변환\n",
    "\n",
    "        # 3. 전처리 실시(이미지 리사이즈, 좌표변환)\n",
    "        img, boxes, labels = self.transform(img, self.phase, anno_list[:, :4], anno_list[:, 4]) #변환된 이미지, 박스 좌표값, 라벨 인덱스 추출\n",
    "\n",
    "        # 색상 채널의 순서가 BGR이므로 RGB로 순서 변경\n",
    "        # (높이, 폭, 색상 채널)의 순서를 (색상 채널, 높이, 폭)으로 변경\n",
    "        img = torch.from_numpy(img[:, :, (2, 1, 0)]).permute(2, 0, 1) #numpy배열을 Tensor로 변환->GPU는 Tensor를 사용함\n",
    "\n",
    "        # BBox와 라벨을 세트로 한 np.array 작성. 변수 이름 gt는 ground truth의 의미\n",
    "        gt = np.hstack((boxes, np.expand_dims(labels, axis=1))) #실제 바운딩박스 좌표와 라벨명, 추후 예측에 사용됨\n",
    "\n",
    "        return img, gt, height, width #변환된 이미지, 실제 박스좌표 라벨값, 실제 높이, 너비"
   ]
  },
  {
   "cell_type": "markdown",
   "id": "2ed7d866-329d-47b3-b264-1d2a1fe1a39b",
   "metadata": {},
   "source": [
    "# train img. train annotation 확인"
   ]
  },
  {
   "cell_type": "code",
   "execution_count": 38,
   "id": "149d031e-9144-4700-a236-36f826051689",
   "metadata": {},
   "outputs": [
    {
     "data": {
      "text/plain": [
       "['C:/Users/user/Desktop/SSD/data/VOCdevkit/VOC2012/JPEGImages\\\\2008_000008.jpg',\n",
       " 'C:/Users/user/Desktop/SSD/data/VOCdevkit/VOC2012/JPEGImages\\\\2008_000015.jpg',\n",
       " 'C:/Users/user/Desktop/SSD/data/VOCdevkit/VOC2012/JPEGImages\\\\2008_000019.jpg',\n",
       " 'C:/Users/user/Desktop/SSD/data/VOCdevkit/VOC2012/JPEGImages\\\\2008_000023.jpg',\n",
       " 'C:/Users/user/Desktop/SSD/data/VOCdevkit/VOC2012/JPEGImages\\\\2008_000028.jpg']"
      ]
     },
     "execution_count": 38,
     "metadata": {},
     "output_type": "execute_result"
    }
   ],
   "source": [
    "# train image list\n",
    "train_img_list[:5]"
   ]
  },
  {
   "cell_type": "code",
   "execution_count": 39,
   "id": "56c21d8a-3fea-4ea5-8324-94bc08e72293",
   "metadata": {},
   "outputs": [
    {
     "data": {
      "text/plain": [
       "['C:/Users/user/Desktop/SSD/data/VOCdevkit/VOC2012/Annotations\\\\2008_000008.xml',\n",
       " 'C:/Users/user/Desktop/SSD/data/VOCdevkit/VOC2012/Annotations\\\\2008_000015.xml',\n",
       " 'C:/Users/user/Desktop/SSD/data/VOCdevkit/VOC2012/Annotations\\\\2008_000019.xml',\n",
       " 'C:/Users/user/Desktop/SSD/data/VOCdevkit/VOC2012/Annotations\\\\2008_000023.xml',\n",
       " 'C:/Users/user/Desktop/SSD/data/VOCdevkit/VOC2012/Annotations\\\\2008_000028.xml']"
      ]
     },
     "execution_count": 39,
     "metadata": {},
     "output_type": "execute_result"
    }
   ],
   "source": [
    "# train annotation list\n",
    "train_anno_list[:5]"
   ]
  },
  {
   "cell_type": "markdown",
   "id": "d9ad7500-f002-4e99-997c-d0ec8d99c081",
   "metadata": {},
   "source": [
    "# valid img. valid annotation 확인"
   ]
  },
  {
   "cell_type": "code",
   "execution_count": 40,
   "id": "e52055f7-aa3b-459e-9232-5270ccf6e356",
   "metadata": {},
   "outputs": [
    {
     "data": {
      "text/plain": [
       "['C:/Users/user/Desktop/SSD/data/VOCdevkit/VOC2012/JPEGImages\\\\2008_000002.jpg',\n",
       " 'C:/Users/user/Desktop/SSD/data/VOCdevkit/VOC2012/JPEGImages\\\\2008_000003.jpg',\n",
       " 'C:/Users/user/Desktop/SSD/data/VOCdevkit/VOC2012/JPEGImages\\\\2008_000007.jpg',\n",
       " 'C:/Users/user/Desktop/SSD/data/VOCdevkit/VOC2012/JPEGImages\\\\2008_000009.jpg',\n",
       " 'C:/Users/user/Desktop/SSD/data/VOCdevkit/VOC2012/JPEGImages\\\\2008_000016.jpg']"
      ]
     },
     "execution_count": 40,
     "metadata": {},
     "output_type": "execute_result"
    }
   ],
   "source": [
    "# valid image list\n",
    "val_img_list[:5]"
   ]
  },
  {
   "cell_type": "code",
   "execution_count": 41,
   "id": "f8bb6e3a-db21-44cb-ae1b-9604b0b47c28",
   "metadata": {},
   "outputs": [
    {
     "data": {
      "text/plain": [
       "['C:/Users/user/Desktop/SSD/data/VOCdevkit/VOC2012/Annotations\\\\2008_000002.xml',\n",
       " 'C:/Users/user/Desktop/SSD/data/VOCdevkit/VOC2012/Annotations\\\\2008_000003.xml',\n",
       " 'C:/Users/user/Desktop/SSD/data/VOCdevkit/VOC2012/Annotations\\\\2008_000007.xml',\n",
       " 'C:/Users/user/Desktop/SSD/data/VOCdevkit/VOC2012/Annotations\\\\2008_000009.xml',\n",
       " 'C:/Users/user/Desktop/SSD/data/VOCdevkit/VOC2012/Annotations\\\\2008_000016.xml']"
      ]
     },
     "execution_count": 41,
     "metadata": {},
     "output_type": "execute_result"
    }
   ],
   "source": [
    "# valid annotation list\n",
    "val_anno_list[:5]"
   ]
  },
  {
   "cell_type": "markdown",
   "id": "20bff2b3-3dc7-4633-b237-9493c3f1cfc8",
   "metadata": {},
   "source": [
    "# Train, Valid 모두 phase는 Train으로 라벨값과 box값이 나와야함"
   ]
  },
  {
   "cell_type": "code",
   "execution_count": 42,
   "id": "d1744603-b124-4536-8c53-147b307522a2",
   "metadata": {},
   "outputs": [],
   "source": [
    "# 동작 확인\n",
    "color_mean = (104, 117, 123) # BGR 평균값\n",
    "input_size = 300 # 이미지 input 사이즈를 300*300으로 (고정)\n",
    "\n",
    "train_dataset = VOCDataset(train_img_list, train_anno_list, phase='train',\n",
    "                transform=DataTransform(input_size, color_mean),\n",
    "                transform_anno=Anno_xml2list(voc_classes))\n",
    "\n",
    "val_dataset = VOCDataset(val_img_list, val_anno_list, phase='train',\n",
    "                transform=DataTransform(input_size, color_mean), \n",
    "                transform_anno=Anno_xml2list(voc_classes))"
   ]
  },
  {
   "cell_type": "code",
   "execution_count": 43,
   "id": "f02834c9-1710-4604-9fe7-6b43ad766995",
   "metadata": {},
   "outputs": [
    {
     "name": "stdout",
     "output_type": "stream",
     "text": [
      "boxes1 [[269.   0. 377. 175.]\n",
      " [ 56.   0. 163. 149.]]\n"
     ]
    },
    {
     "data": {
      "text/plain": [
       "327"
      ]
     },
     "execution_count": 43,
     "metadata": {},
     "output_type": "execute_result"
    }
   ],
   "source": [
    "# Train 예시\n",
    "train_dataset.pull_item(1)[2]"
   ]
  },
  {
   "cell_type": "markdown",
   "id": "df08b4dc-b203-4181-8959-87cf32f18088",
   "metadata": {},
   "source": [
    "# 학습을 위한 DataLoader"
   ]
  },
  {
   "cell_type": "code",
   "execution_count": 44,
   "id": "5f63aebc-c73e-4fff-a79d-e3074e86f852",
   "metadata": {},
   "outputs": [],
   "source": [
    "def od_collate_fn(batch):\n",
    "    \"\"\"\n",
    "    Dataset에서 꺼내는 어노테이션 데이터의 크기는 이미지마다 다르다.\n",
    "    이미지 내의 물체 수가 두개이면 (2, 5)사이즈이지만[(좌표값, 라벨값), (좌표값, 라벨값)], 세 개이면 (3, 5)으로 바뀜.\n",
    "    각 이미지 마다 객체 수가 달라서 라벨링 파일의 사이즈가 다를 수 있음\n",
    "    한 이미지 내에 라벨링된 객체의 개수가 다른 경우에도 데이터로더를 사용할 수 있도록 collate_fn 함수로 처리\n",
    "    collate_fn은 파이토치 리스트로 mini batch를 작성하는 함수.\n",
    "    미니 배치 분량 이미지는 나열된 리스트 변수 batch에 미니 배치 번호를 지정하는 \n",
    "    차원을 가장 앞에 하나 추가하여 리스트 형태를 변형한다.\n",
    "    \"\"\"\n",
    "\n",
    "    targets = [] #box, label값\n",
    "    imgs = [] #이미지 텐서값\n",
    "    for sample in batch: #배치당 이미지 샘플 뽑기\n",
    "        imgs.append(sample[0])  # sample[0]은 이미지 텐서\n",
    "        targets.append(torch.FloatTensor(sample[1]))  # sample[1]은 어노테이션 gt->좌표값과 라벨 인덱스\n",
    "\n",
    "    # imgs는 미니배치 크기 리스트\n",
    "    # 리스트 요소는 torch.Size([3, 300, 300])\n",
    "    # 이 리스트를 torch.Size([batch_num, 3, 300, 300])의 텐서로 변환->앞에 배치 차원이 추가됨->이미지 분석에서 모두 동일함\n",
    "    imgs = torch.stack(imgs, dim=0)\n",
    "\n",
    "    # targets은 어노테이션의 정답인 gt 리스트\n",
    "    # 리스트 크기 = 미니 배치 크기\n",
    "    # targets 리스트의 요소는 [n, 5] \n",
    "    # n은 화상마다 다르며 화상 속 물체의 수\n",
    "    # 5는 [xmin, ymin, xmax, ymax, class_index]\n",
    "\n",
    "    return imgs, targets"
   ]
  },
  {
   "cell_type": "code",
   "execution_count": 45,
   "id": "f73c55ee-7fbe-4785-87e4-801a17a292ce",
   "metadata": {},
   "outputs": [],
   "source": [
    "# 데이터 로더 작성\n",
    "batch_size = 4\n",
    "\n",
    "# Train\n",
    "train_dataloader = DataLoader(train_dataset, batch_size =batch_size, shuffle=True, collate_fn=od_collate_fn)\n",
    "\n",
    "# Valid\n",
    "val_dataloader = DataLoader(val_dataset, batch_size =batch_size, shuffle=True, collate_fn=od_collate_fn)\n",
    "\n",
    "# 사전형 변수에 정리\n",
    "dataloaders_dict = {'train' : train_dataloader,'val' : val_dataloader}"
   ]
  },
  {
   "cell_type": "code",
   "execution_count": 46,
   "id": "a4656538-c7a6-49aa-b2bd-5f320ebd7ed9",
   "metadata": {},
   "outputs": [
    {
     "name": "stdout",
     "output_type": "stream",
     "text": [
      "boxes1 [[  0. 138. 374. 499.]\n",
      " [  0.   0. 122. 149.]\n",
      " [162. 103. 256. 169.]\n",
      " [  0. 129.  91. 271.]]\n",
      "boxes1 [[202. 126. 311. 230.]\n",
      " [325.  47. 414. 143.]\n",
      " [358. 161. 393. 276.]]\n",
      "boxes1 [[144. 113. 433. 279.]]\n",
      "boxes1 [[  0. 122.  53. 333.]\n",
      " [248.  96. 365. 333.]\n",
      " [ 84. 115. 291. 333.]\n",
      " [127. 115. 183. 211.]\n",
      " [375.  96. 435. 248.]\n",
      " [445. 146. 499. 275.]\n",
      " [429.  94. 499. 279.]\n",
      " [  0. 249. 145. 333.]\n",
      " [ 89. 224. 368. 333.]\n",
      " [193. 257. 492. 333.]]\n"
     ]
    }
   ],
   "source": [
    "img,target=next(iter(train_dataloader))"
   ]
  },
  {
   "cell_type": "code",
   "execution_count": 47,
   "id": "12ed8250-0339-4e1d-a513-63124855932f",
   "metadata": {},
   "outputs": [
    {
     "name": "stdout",
     "output_type": "stream",
     "text": [
      "4\n"
     ]
    }
   ],
   "source": [
    "print(len(img)) #배치 사이즈에 맞게 4개의 이미지 텐서값 적재됨"
   ]
  },
  {
   "cell_type": "code",
   "execution_count": 48,
   "id": "f1c4a466-f2f2-49ec-9aac-ea6cb665b741",
   "metadata": {},
   "outputs": [
    {
     "name": "stdout",
     "output_type": "stream",
     "text": [
      "torch.Size([3, 300, 300])\n",
      "torch.Size([3, 300, 300])\n",
      "torch.Size([3, 300, 300])\n",
      "torch.Size([3, 300, 300])\n"
     ]
    }
   ],
   "source": [
    "# 이미지 사이즈 확인\n",
    "for i in img:\n",
    "    print(i.size())"
   ]
  },
  {
   "cell_type": "code",
   "execution_count": 49,
   "id": "bb2e4283-757e-4de8-9964-2ecc72fff103",
   "metadata": {},
   "outputs": [
    {
     "name": "stdout",
     "output_type": "stream",
     "text": [
      "4\n"
     ]
    }
   ],
   "source": [
    "print(len(target)) #[박스값, 라벨링 인덱스]"
   ]
  },
  {
   "cell_type": "code",
   "execution_count": 50,
   "id": "fd169892-9792-4c70-b467-fe334daeb617",
   "metadata": {},
   "outputs": [
    {
     "data": {
      "text/plain": [
       "[tensor([[ 0.0000,  0.2760,  0.9973,  0.9980, 10.0000],\n",
       "         [ 0.0000,  0.0000,  0.3253,  0.2980, 15.0000],\n",
       "         [ 0.4320,  0.2060,  0.6827,  0.3380,  8.0000],\n",
       "         [ 0.0000,  0.2580,  0.2427,  0.5420,  8.0000]]),\n",
       " tensor([[0.4040, 0.3784, 0.6220, 0.6907, 2.0000],\n",
       "         [0.6500, 0.1411, 0.8280, 0.4294, 2.0000],\n",
       "         [0.7160, 0.4835, 0.7860, 0.8288, 2.0000]]),\n",
       " tensor([[0.2880, 0.3393, 0.8660, 0.8378, 3.0000]]),\n",
       " tensor([[ 0.0000,  0.3653,  0.1060,  0.9970, 14.0000],\n",
       "         [ 0.4960,  0.2874,  0.7300,  0.9970, 14.0000],\n",
       "         [ 0.1680,  0.3443,  0.5820,  0.9970, 14.0000],\n",
       "         [ 0.2540,  0.3443,  0.3660,  0.6317, 14.0000],\n",
       "         [ 0.7500,  0.2874,  0.8700,  0.7425, 14.0000],\n",
       "         [ 0.8900,  0.4371,  0.9980,  0.8234, 14.0000],\n",
       "         [ 0.8580,  0.2814,  0.9980,  0.8353, 14.0000],\n",
       "         [ 0.0000,  0.7455,  0.2900,  0.9970,  1.0000],\n",
       "         [ 0.1780,  0.6707,  0.7360,  0.9970,  1.0000],\n",
       "         [ 0.3860,  0.7695,  0.9840,  0.9970,  1.0000]])]"
      ]
     },
     "execution_count": 50,
     "metadata": {},
     "output_type": "execute_result"
    }
   ],
   "source": [
    "target"
   ]
  },
  {
   "cell_type": "code",
   "execution_count": 51,
   "id": "29ff2e76-6575-49f1-ad52-4a1dc4994efc",
   "metadata": {},
   "outputs": [
    {
     "data": {
      "text/plain": [
       "torch.Size([4, 5])"
      ]
     },
     "execution_count": 51,
     "metadata": {},
     "output_type": "execute_result"
    }
   ],
   "source": [
    "target[0].size()"
   ]
  },
  {
   "cell_type": "markdown",
   "id": "8bfb5916-410f-4462-ba32-10873a3c2dbc",
   "metadata": {},
   "source": [
    "# Backbone Build"
   ]
  },
  {
   "cell_type": "code",
   "execution_count": 52,
   "id": "bd449bdd-16be-4edb-af90-59bbca32ef8f",
   "metadata": {},
   "outputs": [],
   "source": [
    "# 34층에 걸친 vgg 모듈을 작성\n",
    "\n",
    "def make_vgg():\n",
    "    layers = [] #빈 리스트 생성\n",
    "    in_channels = 3  # 색 채널 수\n",
    "\n",
    "    # vgg 모듈에서 사용하는 합성곱 층이나 최대 풀링 채널 수 \n",
    "    cfg = [64, 64, 'M', 128, 128, 'M', 256, 256,256, 'MC', 512, 512, 512, 'M', 512, 512, 512]\n",
    "    # M-> MAX Pooling, MC->Max Pooling with Channel Decrease \n",
    "\n",
    "    for v in cfg:\n",
    "        if v == 'M':\n",
    "            layers += [nn.MaxPool2d(kernel_size=2, stride=2)]\n",
    "        elif v == 'MC':\n",
    "            # ceil은 계산 결과(float)에서 출력 크기의 소수점을 올려 정수로 하는 모드\n",
    "            # default는 계산 결과(float)에서 출력 크기의 소수점을 버려 정수로 하는 floor 모드\n",
    "            layers += [nn.MaxPool2d(kernel_size=2, stride=2, ceil_mode=True)]\n",
    "        else:\n",
    "            conv2d = nn.Conv2d(in_channels, v, kernel_size=3, padding=1) #Max Pooling이 아니라면 지정해놓은 Channel이 out channel로 들어감\n",
    "            # ReLU 인수 inplace는 ReLU에 대한 입력을 메모리 상에 유지할 것인지, 혹은\n",
    "            # 입력을 재작성 하여 출력으로 바꾼 후 메모리상에 유지하지 않을 것인지를 나타냄.\n",
    "            # inplace=True 입력 시 메모리상에 입력을 유지하지 않고, 입력을 재작성 (메모리 절약됨)\n",
    "            layers += [conv2d, nn.ReLU(inplace=True)]\n",
    "            in_channels = v #다음 층의 in channel 저장\n",
    "\n",
    "    pool5 = nn.MaxPool2d(kernel_size=3, stride=1, padding=1)\n",
    "    conv6 = nn.Conv2d(512, 1024, kernel_size=3, padding=6, dilation=6)\n",
    "    conv7 = nn.Conv2d(1024, 1024, kernel_size=1)\n",
    "    layers += [pool5, conv6,nn.ReLU(inplace=True), conv7, nn.ReLU(inplace=True)]\n",
    "    return nn.ModuleList(layers)"
   ]
  },
  {
   "cell_type": "code",
   "execution_count": 53,
   "id": "243b08c4-2b2b-48c4-99d3-4e7cd4b59690",
   "metadata": {},
   "outputs": [
    {
     "name": "stdout",
     "output_type": "stream",
     "text": [
      "ModuleList(\n",
      "  (0): Conv2d(3, 64, kernel_size=(3, 3), stride=(1, 1), padding=(1, 1))\n",
      "  (1): ReLU(inplace=True)\n",
      "  (2): Conv2d(64, 64, kernel_size=(3, 3), stride=(1, 1), padding=(1, 1))\n",
      "  (3): ReLU(inplace=True)\n",
      "  (4): MaxPool2d(kernel_size=2, stride=2, padding=0, dilation=1, ceil_mode=False)\n",
      "  (5): Conv2d(64, 128, kernel_size=(3, 3), stride=(1, 1), padding=(1, 1))\n",
      "  (6): ReLU(inplace=True)\n",
      "  (7): Conv2d(128, 128, kernel_size=(3, 3), stride=(1, 1), padding=(1, 1))\n",
      "  (8): ReLU(inplace=True)\n",
      "  (9): MaxPool2d(kernel_size=2, stride=2, padding=0, dilation=1, ceil_mode=False)\n",
      "  (10): Conv2d(128, 256, kernel_size=(3, 3), stride=(1, 1), padding=(1, 1))\n",
      "  (11): ReLU(inplace=True)\n",
      "  (12): Conv2d(256, 256, kernel_size=(3, 3), stride=(1, 1), padding=(1, 1))\n",
      "  (13): ReLU(inplace=True)\n",
      "  (14): Conv2d(256, 256, kernel_size=(3, 3), stride=(1, 1), padding=(1, 1))\n",
      "  (15): ReLU(inplace=True)\n",
      "  (16): MaxPool2d(kernel_size=2, stride=2, padding=0, dilation=1, ceil_mode=True)\n",
      "  (17): Conv2d(256, 512, kernel_size=(3, 3), stride=(1, 1), padding=(1, 1))\n",
      "  (18): ReLU(inplace=True)\n",
      "  (19): Conv2d(512, 512, kernel_size=(3, 3), stride=(1, 1), padding=(1, 1))\n",
      "  (20): ReLU(inplace=True)\n",
      "  (21): Conv2d(512, 512, kernel_size=(3, 3), stride=(1, 1), padding=(1, 1))\n",
      "  (22): ReLU(inplace=True)\n",
      "  (23): MaxPool2d(kernel_size=2, stride=2, padding=0, dilation=1, ceil_mode=False)\n",
      "  (24): Conv2d(512, 512, kernel_size=(3, 3), stride=(1, 1), padding=(1, 1))\n",
      "  (25): ReLU(inplace=True)\n",
      "  (26): Conv2d(512, 512, kernel_size=(3, 3), stride=(1, 1), padding=(1, 1))\n",
      "  (27): ReLU(inplace=True)\n",
      "  (28): Conv2d(512, 512, kernel_size=(3, 3), stride=(1, 1), padding=(1, 1))\n",
      "  (29): ReLU(inplace=True)\n",
      "  (30): MaxPool2d(kernel_size=3, stride=1, padding=1, dilation=1, ceil_mode=False)\n",
      "  (31): Conv2d(512, 1024, kernel_size=(3, 3), stride=(1, 1), padding=(6, 6), dilation=(6, 6))\n",
      "  (32): ReLU(inplace=True)\n",
      "  (33): Conv2d(1024, 1024, kernel_size=(1, 1), stride=(1, 1))\n",
      "  (34): ReLU(inplace=True)\n",
      ")\n"
     ]
    }
   ],
   "source": [
    "# 동작 확인\n",
    "vgg_test = make_vgg()\n",
    "print(vgg_test)"
   ]
  },
  {
   "cell_type": "markdown",
   "id": "26ad718d-e81b-41fc-9f00-c059b9f74750",
   "metadata": {},
   "source": [
    "# VGG34이후 보조 Network 구현\n",
    "\n",
    "### 8층에 걸친 extras 모듈을 작성\n",
    "\n",
    "vgg 최종 output은 10x10x1024"
   ]
  },
  {
   "cell_type": "code",
   "execution_count": 54,
   "id": "6b2a5917-a61f-4a54-b4fd-243fb5896ebf",
   "metadata": {},
   "outputs": [],
   "source": [
    "def make_extras():\n",
    "    layers = []\n",
    "    in_channels = 1024  # vgg모듈에서 출력된 extra에 입력되는 화상 채널 수 \n",
    "\n",
    "    # extra 모듈의 합성곱 층 채널 수를 설정하는 구성(configuration)\n",
    "    cfg = [256, 512, 128, 256, 128, 256, 128, 256]\n",
    "\n",
    "    layers += [nn.Conv2d(in_channels, cfg[0], kernel_size=(1))]\n",
    "    layers += [nn.Conv2d(cfg[0], cfg[1], kernel_size=(3), stride=2, padding=1)]\n",
    "    layers += [nn.Conv2d(cfg[1], cfg[2], kernel_size=(1))]\n",
    "    layers += [nn.Conv2d(cfg[2], cfg[3], kernel_size=(3), stride=2, padding=1)]\n",
    "    layers += [nn.Conv2d(cfg[3], cfg[4], kernel_size=(1))]\n",
    "    layers += [nn.Conv2d(cfg[4], cfg[5], kernel_size=(3))]\n",
    "    layers += [nn.Conv2d(cfg[5], cfg[6], kernel_size=(1))]\n",
    "    layers += [nn.Conv2d(cfg[6], cfg[7], kernel_size=(3))]\n",
    "\n",
    "    \n",
    "# 활성화 함수의 ReLU는 SSD 모듈의 순전파에서 준비하고, \n",
    "# extra에서는 준비하지 않음.\n",
    "    \n",
    "    return nn.ModuleList(layers)"
   ]
  },
  {
   "cell_type": "code",
   "execution_count": 55,
   "id": "cdd40da6-3fea-4394-b51c-e462dc8fa7fe",
   "metadata": {},
   "outputs": [
    {
     "name": "stdout",
     "output_type": "stream",
     "text": [
      "ModuleList(\n",
      "  (0): Conv2d(1024, 256, kernel_size=(1, 1), stride=(1, 1))\n",
      "  (1): Conv2d(256, 512, kernel_size=(3, 3), stride=(2, 2), padding=(1, 1))\n",
      "  (2): Conv2d(512, 128, kernel_size=(1, 1), stride=(1, 1))\n",
      "  (3): Conv2d(128, 256, kernel_size=(3, 3), stride=(2, 2), padding=(1, 1))\n",
      "  (4): Conv2d(256, 128, kernel_size=(1, 1), stride=(1, 1))\n",
      "  (5): Conv2d(128, 256, kernel_size=(3, 3), stride=(1, 1))\n",
      "  (6): Conv2d(256, 128, kernel_size=(1, 1), stride=(1, 1))\n",
      "  (7): Conv2d(128, 256, kernel_size=(3, 3), stride=(1, 1))\n",
      ")\n"
     ]
    }
   ],
   "source": [
    "# 동작 확인\n",
    "extras_test = make_extras()\n",
    "print(extras_test)"
   ]
  },
  {
   "cell_type": "markdown",
   "id": "4607099a-a609-4fbd-97bd-7f00cdf4e6c2",
   "metadata": {},
   "source": [
    "# Detection & Classifier\n",
    "\n",
    "## Layer Define\n",
    "\n",
    "### loc_layers: 디폴트 박스의 오프셋을 출력하는 층. 디폴트 박스는 4개의 값을 예측해야함->x좌표.\n",
    "\n",
    "### conf_layers: 디폴트 박스 각 클래스의 신뢰도를 출력하는 층임"
   ]
  },
  {
   "cell_type": "code",
   "execution_count": 56,
   "id": "2059e614-1e76-41a0-936a-1689ac72468e",
   "metadata": {},
   "outputs": [],
   "source": [
    "def make_loc_conf(num_classes=21, bbox_aspect_num=[4, 6, 6, 6, 4, 4]): #6번의 Detection & Classifier\n",
    "\n",
    "    loc_layers = [] # 디폴트 박스의 오프셋을 출력하는 loc_layers와\n",
    "    conf_layers = [] # 디폴트 박스 각 클래스 신뢰도 confidence를 출력하는 conf_layers 작성\n",
    "\n",
    "    # VGG의 22층, conv4_3(source1)의 합성곱 층\n",
    "    loc_layers += [nn.Conv2d(512, bbox_aspect_num[0] * 4, kernel_size=3, padding=1)]\n",
    "    conf_layers += [nn.Conv2d(512, bbox_aspect_num[0]  * num_classes, kernel_size=3, padding=1)]\n",
    "\n",
    "    # VGG의 최종층(source2)의 합성곱 층\n",
    "    loc_layers += [nn.Conv2d(1024, bbox_aspect_num[1]   * 4, kernel_size=3, padding=1)]\n",
    "    conf_layers += [nn.Conv2d(1024, bbox_aspect_num[1] * num_classes, kernel_size=3, padding=1)]\n",
    "\n",
    "    # extra(source3)의 합성곱 층\n",
    "    loc_layers += [nn.Conv2d(512, bbox_aspect_num[2]  * 4, kernel_size=3, padding=1)]\n",
    "    conf_layers += [nn.Conv2d(512, bbox_aspect_num[2]   * num_classes, kernel_size=3, padding=1)]\n",
    "\n",
    "    # extra（source4)의 합성곱 층\n",
    "    loc_layers += [nn.Conv2d(256, bbox_aspect_num[3]  * 4, kernel_size=3, padding=1)]\n",
    "    conf_layers += [nn.Conv2d(256, bbox_aspect_num[3]  * num_classes, kernel_size=3, padding=1)]\n",
    "\n",
    "    # extra（source5）의 합성곱 층\n",
    "    loc_layers += [nn.Conv2d(256, bbox_aspect_num[4]  * 4, kernel_size=3, padding=1)]\n",
    "    conf_layers += [nn.Conv2d(256, bbox_aspect_num[4]  * num_classes, kernel_size=3, padding=1)]\n",
    "\n",
    "    # extra（source6）의 합성곱 층\n",
    "    loc_layers += [nn.Conv2d(256, bbox_aspect_num[5]    * 4, kernel_size=3, padding=1)]\n",
    "    conf_layers += [nn.Conv2d(256, bbox_aspect_num[5]  * num_classes, kernel_size=3, padding=1)]\n",
    "\n",
    "    return nn.ModuleList(loc_layers), nn.ModuleList(conf_layers)"
   ]
  },
  {
   "cell_type": "code",
   "execution_count": 57,
   "id": "86b50d16-fd5d-4d84-b128-8ce000d665b3",
   "metadata": {},
   "outputs": [
    {
     "name": "stdout",
     "output_type": "stream",
     "text": [
      "ModuleList(\n",
      "  (0): Conv2d(512, 16, kernel_size=(3, 3), stride=(1, 1), padding=(1, 1))\n",
      "  (1): Conv2d(1024, 24, kernel_size=(3, 3), stride=(1, 1), padding=(1, 1))\n",
      "  (2): Conv2d(512, 24, kernel_size=(3, 3), stride=(1, 1), padding=(1, 1))\n",
      "  (3): Conv2d(256, 24, kernel_size=(3, 3), stride=(1, 1), padding=(1, 1))\n",
      "  (4): Conv2d(256, 16, kernel_size=(3, 3), stride=(1, 1), padding=(1, 1))\n",
      "  (5): Conv2d(256, 16, kernel_size=(3, 3), stride=(1, 1), padding=(1, 1))\n",
      ")\n",
      "ModuleList(\n",
      "  (0): Conv2d(512, 84, kernel_size=(3, 3), stride=(1, 1), padding=(1, 1))\n",
      "  (1): Conv2d(1024, 126, kernel_size=(3, 3), stride=(1, 1), padding=(1, 1))\n",
      "  (2): Conv2d(512, 126, kernel_size=(3, 3), stride=(1, 1), padding=(1, 1))\n",
      "  (3): Conv2d(256, 126, kernel_size=(3, 3), stride=(1, 1), padding=(1, 1))\n",
      "  (4): Conv2d(256, 84, kernel_size=(3, 3), stride=(1, 1), padding=(1, 1))\n",
      "  (5): Conv2d(256, 84, kernel_size=(3, 3), stride=(1, 1), padding=(1, 1))\n",
      ")\n"
     ]
    }
   ],
   "source": [
    "# 동작 확인\n",
    "loc_test, conf_test = make_loc_conf()\n",
    "print(loc_test)\n",
    "print(conf_test)"
   ]
  },
  {
   "cell_type": "markdown",
   "id": "ab0f3903-a74a-45d2-a230-f0b3612323b8",
   "metadata": {},
   "source": [
    "# L2Norm\n",
    "\n",
    "## <span style='color:red'>conv4_3에서 출력에 적용하는 L2Norm층을 구현\n",
    "\n",
    "### <span style='color:red'>L2Norm 이란 SSD(Single Shot MultiBox Detector)에서 L2Norm은 특징 맵의 정규화에 사용됩니다.<br> L2Norm은 입력 특징 맵의 각 채널을 해당 채널의 L2 노름(크기)으로 나누어 정규화하는 역할을 합니다\n",
    "\n",
    "L2Norm은 주로 SSD의 특징 추출 네트워크인 VGG 등에서 사용됩니다.\n",
    "\n",
    "특히, SSD에서는 다양한 크기의 특징 맵을 사용하여 다양한 크기의 객체를 탐지할 수 있습니다. \n",
    "\n",
    "그러나 이러한 다양한 크기의 특징 맵을 사용하면서도 동일한 스케일의 특징 맵끼리 비교 가능한 범위로 정규화하기 위해 L2Norm을 사용합니다.\n",
    "\n",
    "즉 각 채널의 탠서값을 정규화하여 분석에 진행하기 위해 L2Norm 층을 구현해야함"
   ]
  },
  {
   "cell_type": "markdown",
   "id": "8235e260-21a4-48bd-824e-bafd7b6a23fc",
   "metadata": {},
   "source": [
    "# 파라미터 정의\n",
    "\n",
    "## <span style='color:blue'> self.scale: L2Norm 층의 가중치(weight)의 초기값으로 사용 1~20까지 무작위 선택 가능 계속 튜닝 해야함\n",
    "\n",
    "## <span style='color:blue'> self.reset_parameters: 모델을 시작할때 가중치를 적절한 값으로 초기화하고 학습을 진행해줌 self.weight값이 self.scale값으로 모두 초기화 됨\n",
    "\n",
    "## <span style='color:blue'> self.eps: 분모에 추가되는 작은 상수입니다. 이 작은 상수는 분모에 0이 포함되는 경우를 방지하기 위해 사용\n",
    "\n",
    "## <span style='color:blue'> self.weight: input 피처맵 채널 수 만큼 weight 텐서 저장"
   ]
  },
  {
   "cell_type": "code",
   "execution_count": 58,
   "id": "0e783d96-8e42-4179-a128-2e673509795f",
   "metadata": {},
   "outputs": [],
   "source": [
    "class L2Norm(nn.Module):\n",
    "    def __init__(self, input_channels=512, scale=20):\n",
    "        super(L2Norm, self).__init__()  #  부모 클래스의 생성자 실행\n",
    "        self.weight = nn.Parameter(torch.Tensor(input_channels)) #채널수 만큼의 가중치 텐서 저장\n",
    "        self.scale = scale  # 계수 weight의 초깃값으로 설정할 값\n",
    "        self.reset_parameters()  # 파라미터 초기화\n",
    "        self.eps = 1e-6\n",
    "\n",
    "    def reset_parameters(self):\n",
    "        '''결합 파라미터의 scale 크기 값으로 초기화를 실행'''\n",
    "        init.constant_(self.weight, self.scale)  # weight 값이 모두 scale(=20)이 된다.  PyTorch의 초기화 함수. 이 함수는 입력된 텐서의 모든 원소를 지정된 값으로 초기화\n",
    "\n",
    "    def forward(self, x):\n",
    "        '''\n",
    "        38*38의 피처맵에 대해 512 채널에 걸쳐 제곱합의 루트를 구했다.\n",
    "        38*38개의 값을 사용하여 각 피처맵을 정규화한 후 계수를 곱하여 계산하는 층\n",
    "        '''\n",
    "\n",
    "        # 각 채널의 38*38개 특징량의 채널 방향 제곱합을 계산하고\n",
    "        # 루트를 구해 나누어 정규화한다.\n",
    "        # norm의 텐서 사이즈는 torch.Size([batch_num, 1, 38, 38])\n",
    "        # norm을 사용하여 피처맵의 각 채널별로 정규화를 수행\n",
    "        norm = x.pow(2).sum(dim=1, keepdim=True).sqrt()+self.eps #, 각 샘플에 대한 피처맵의 제곱합의 제곱근 값, 피처맵의 특징값을 정규화하는 과정에서 사용됩니다.\n",
    "        x = torch.div(x, norm) #x=피처맵, norm 피처맵의 각 채널에 대한 제곱합의 제곱근 즉 피처맵을 각 채널에 대한 제곱합의 제곱근으로 나누어 정규화된값이 최종 x임\n",
    "\n",
    "        # 계수를 곱한다. 계수는 채널마다 하나로, 512개의 계수를 갖는다.\n",
    "        # self.weight의 텐서 사이즈는 torch.Size([512])로,\n",
    "        # torch.Size([batch_num, 512, 38, 38])까지 변형한다.\n",
    "        weights = self.weight.unsqueeze(0).unsqueeze(2).unsqueeze(3).expand_as(x) #self.weight=512개의 텐서->unsqueeze를 통해 batch, width, height 값을 x와 같은 값으로 맞춰주고 곱햐줌\n",
    "        out = weights * x #중치인 weights와 입력값인 x를 원소별로 곱하여 가중치를 적용한 결과인 out, 이는 객체 탐지에서 각 특징 맵에 대해 클래스 신뢰도를 예측하는 과정으로 사용\n",
    "\n",
    "        return out"
   ]
  },
  {
   "cell_type": "markdown",
   "id": "7eb275e6-e021-4602-9ecf-6a69cea98da1",
   "metadata": {},
   "source": [
    "# 디폴트 박스 구현\n",
    "\n",
    "## <span style='color:red'>앞으로 예측할 박스에 대한 숫자와 크기를 미리 지정하는 과정\n",
    "    \n",
    "피처맵에서 특징을 뽑고 원본 이미지인 300x300이미지에서 해당 min size를 기준으로 바운딩 박스를 생성해서 작은 객체부터 큰 객체까지 탐지를 6번 진행"
   ]
  },
  {
   "cell_type": "code",
   "execution_count": 59,
   "id": "e4054d57-cb84-4b4f-8734-aec40ba6d0a5",
   "metadata": {},
   "outputs": [],
   "source": [
    "class DBox(object):\n",
    "    def __init__(self, cfg):\n",
    "        super(DBox, self).__init__()\n",
    "\n",
    "        # 초기 설정\n",
    "        self.image_size = cfg['input_size']  # 이미지 크기는 300\n",
    "        # [38, 19, …] 각 source의 특징량 맵 크기\n",
    "        self.feature_maps = cfg['feature_maps'] # 바운딩 박스 예측을 시작하는 피처맵의 채널 수 지정\n",
    "        self.num_priors = len(cfg[\"feature_maps\"])  # source 개수 = 6->6번의 Detection&classify를 진행함\n",
    "        self.steps = cfg['steps']  # step의 크기가 클수록 많은 영역을 한번에 보기 때문에 작은 객체까지 탐지가 가능하고, 픽셀이 작을 수록 객체의 세세한 부분을 잡아 큰 객체를 후에 탐지할 수 있음\n",
    "\n",
    "        self.min_sizes = cfg['min_sizes']\n",
    "        # [30, 60, …] 작은 정사각형의 DBox 픽셀 크기(정확히는 면적)\n",
    "\n",
    "        self.max_sizes = cfg['max_sizes']\n",
    "        # [60, 111, …] 큰 정사각형의 DBox 픽셀 크기(정확히는 면적)\n",
    "\n",
    "        self.aspect_ratios = cfg['aspect_ratios']  # 정사각형의 DBox 화면비(종횡비), 비율이 다양한 이유는 이미지내의 객체들의 가로세로 비율이 다양하기 때문\n",
    "\n",
    "    def make_dbox_list(self):\n",
    "        '''DBox 작성'''\n",
    "        mean = []\n",
    "        # 'feature_maps': [38, 19, 10, 5, 3, 1]\n",
    "        for k, f in enumerate(self.feature_maps):\n",
    "            #k=0, f=38, k=1, f=19,,, 인덱스와 피처맵값 zip형태\n",
    "            # product는 itertools 모듈에 있는 함수로, 주어진 반복 가능한 객체들의 모든 조합을 반환하는 함수. product 함수는 중첩된 for 루프의 대안으로 사용\n",
    "            for i, j in product(range(f), repeat=2):  # f 까지의 수로 두 쌍의 조합을 작성. f_p_2개,\n",
    "                \n",
    "                # 특징량의 화상 크기\n",
    "                # 300 / 'steps': [8, 16, 32, 64, 100, 300],\n",
    "                f_k = self.image_size / self.steps[k]\n",
    "\n",
    "                # DBox의 중심 좌표 x,y. 0~1 로 정규화되어 있다.->중심값인 0.5를 더해주고 피처맵의 크기로 나눠줌\n",
    "                cx = (j + 0.5) / f_k\n",
    "                cy = (i + 0.5) / f_k\n",
    "                \n",
    "                ##아래 부분 이해 필요\n",
    "\n",
    "                # 화면비 1의 작은 DBox [cx,cy, width, height]\n",
    "                # 'min_sizes': [30, 60, 111, 162, 213, 264]\n",
    "                s_k = self.min_sizes[k]/self.image_size\n",
    "                mean += [cx, cy, s_k, s_k]\n",
    "\n",
    "                # 화면비 1의 큰 DBox [cx,cy, width, height]\n",
    "                # 'max_sizes': [60, 111, 162, 213, 264, 315],\n",
    "                s_k_prime = sqrt(s_k * (self.max_sizes[k]/self.image_size))\n",
    "                mean += [cx, cy, s_k_prime, s_k_prime]\n",
    "\n",
    "                # 그 오 ㅣ화면비의 defBox [cx,cy, width, height]\n",
    "                for ar in self.aspect_ratios[k]:\n",
    "                    mean += [cx, cy, s_k*sqrt(ar), s_k/sqrt(ar)]\n",
    "                    mean += [cx, cy, s_k*sqrt(ar), s_k*sqrt(ar)]\n",
    "\n",
    "        # DBox를 텐서로 변환 torch.Size([8732, 4])\n",
    "        output = torch.Tensor(mean).view(-1, 4)\n",
    "\n",
    "        # DBox가 이미지 밖으로 돌출되는 것을 막기 위해 크기를 최소 0, 최대 1로 한다.\n",
    "        output.clamp_(max=1, min=0)\n",
    "        return output"
   ]
  },
  {
   "cell_type": "markdown",
   "id": "4cc9fa33-3e3b-4232-8ecb-350d4dbd6f60",
   "metadata": {},
   "source": [
    "# 각 디폴트 박스의 좌표값을 데이터프레임화"
   ]
  },
  {
   "cell_type": "code",
   "execution_count": 60,
   "id": "b65c6cfa-801d-412a-a5a4-8c68ec81f975",
   "metadata": {},
   "outputs": [
    {
     "data": {
      "text/html": [
       "<div>\n",
       "<style scoped>\n",
       "    .dataframe tbody tr th:only-of-type {\n",
       "        vertical-align: middle;\n",
       "    }\n",
       "\n",
       "    .dataframe tbody tr th {\n",
       "        vertical-align: top;\n",
       "    }\n",
       "\n",
       "    .dataframe thead th {\n",
       "        text-align: right;\n",
       "    }\n",
       "</style>\n",
       "<table border=\"1\" class=\"dataframe\">\n",
       "  <thead>\n",
       "    <tr style=\"text-align: right;\">\n",
       "      <th></th>\n",
       "      <th>0</th>\n",
       "      <th>1</th>\n",
       "      <th>2</th>\n",
       "      <th>3</th>\n",
       "    </tr>\n",
       "  </thead>\n",
       "  <tbody>\n",
       "    <tr>\n",
       "      <th>0</th>\n",
       "      <td>0.013333</td>\n",
       "      <td>0.013333</td>\n",
       "      <td>0.100000</td>\n",
       "      <td>0.100000</td>\n",
       "    </tr>\n",
       "    <tr>\n",
       "      <th>1</th>\n",
       "      <td>0.013333</td>\n",
       "      <td>0.013333</td>\n",
       "      <td>0.141421</td>\n",
       "      <td>0.141421</td>\n",
       "    </tr>\n",
       "    <tr>\n",
       "      <th>2</th>\n",
       "      <td>0.013333</td>\n",
       "      <td>0.013333</td>\n",
       "      <td>0.141421</td>\n",
       "      <td>0.070711</td>\n",
       "    </tr>\n",
       "    <tr>\n",
       "      <th>3</th>\n",
       "      <td>0.013333</td>\n",
       "      <td>0.013333</td>\n",
       "      <td>0.141421</td>\n",
       "      <td>0.141421</td>\n",
       "    </tr>\n",
       "    <tr>\n",
       "      <th>4</th>\n",
       "      <td>0.040000</td>\n",
       "      <td>0.013333</td>\n",
       "      <td>0.100000</td>\n",
       "      <td>0.100000</td>\n",
       "    </tr>\n",
       "    <tr>\n",
       "      <th>...</th>\n",
       "      <td>...</td>\n",
       "      <td>...</td>\n",
       "      <td>...</td>\n",
       "      <td>...</td>\n",
       "    </tr>\n",
       "    <tr>\n",
       "      <th>8727</th>\n",
       "      <td>0.833333</td>\n",
       "      <td>0.833333</td>\n",
       "      <td>1.000000</td>\n",
       "      <td>1.000000</td>\n",
       "    </tr>\n",
       "    <tr>\n",
       "      <th>8728</th>\n",
       "      <td>0.500000</td>\n",
       "      <td>0.500000</td>\n",
       "      <td>0.880000</td>\n",
       "      <td>0.880000</td>\n",
       "    </tr>\n",
       "    <tr>\n",
       "      <th>8729</th>\n",
       "      <td>0.500000</td>\n",
       "      <td>0.500000</td>\n",
       "      <td>0.961249</td>\n",
       "      <td>0.961249</td>\n",
       "    </tr>\n",
       "    <tr>\n",
       "      <th>8730</th>\n",
       "      <td>0.500000</td>\n",
       "      <td>0.500000</td>\n",
       "      <td>1.000000</td>\n",
       "      <td>0.622254</td>\n",
       "    </tr>\n",
       "    <tr>\n",
       "      <th>8731</th>\n",
       "      <td>0.500000</td>\n",
       "      <td>0.500000</td>\n",
       "      <td>1.000000</td>\n",
       "      <td>1.000000</td>\n",
       "    </tr>\n",
       "  </tbody>\n",
       "</table>\n",
       "<p>8732 rows × 4 columns</p>\n",
       "</div>"
      ],
      "text/plain": [
       "             0         1         2         3\n",
       "0     0.013333  0.013333  0.100000  0.100000\n",
       "1     0.013333  0.013333  0.141421  0.141421\n",
       "2     0.013333  0.013333  0.141421  0.070711\n",
       "3     0.013333  0.013333  0.141421  0.141421\n",
       "4     0.040000  0.013333  0.100000  0.100000\n",
       "...        ...       ...       ...       ...\n",
       "8727  0.833333  0.833333  1.000000  1.000000\n",
       "8728  0.500000  0.500000  0.880000  0.880000\n",
       "8729  0.500000  0.500000  0.961249  0.961249\n",
       "8730  0.500000  0.500000  1.000000  0.622254\n",
       "8731  0.500000  0.500000  1.000000  1.000000\n",
       "\n",
       "[8732 rows x 4 columns]"
      ]
     },
     "execution_count": 60,
     "metadata": {},
     "output_type": "execute_result"
    }
   ],
   "source": [
    "# 동작 확인\n",
    "\n",
    "# DBox 작성\n",
    "dbox = DBox(ssd_cfg)\n",
    "dbox_list = dbox.make_dbox_list()\n",
    "\n",
    "# dbox 출력 확인 \n",
    "pd.DataFrame(dbox_list.numpy())"
   ]
  },
  {
   "cell_type": "markdown",
   "id": "e5eb07e5-e2d4-42da-8d09-8719377e15ef",
   "metadata": {},
   "source": [
    "# SSD 구현"
   ]
  },
  {
   "cell_type": "code",
   "execution_count": 61,
   "id": "18a8c81f-2f6f-44f3-bf74-b410edf234d6",
   "metadata": {},
   "outputs": [],
   "source": [
    "# SSD클래스 작성\n",
    "\n",
    "\n",
    "class SSD(nn.Module):\n",
    "\n",
    "    def __init__(self, phase, cfg):\n",
    "        super(SSD, self).__init__()\n",
    "\n",
    "        self.phase = phase  # train or inference\n",
    "        self.num_classes = cfg[\"num_classes\"]  # 클래스 수\n",
    "\n",
    "        # SSD 네트워크 작성\n",
    "        self.vgg = make_vgg() #VGG Network\n",
    "        self.extras = make_extras() #추가 Network\n",
    "        self.L2Norm = L2Norm() #L2Norm정규화\n",
    "        self.loc, self.conf = make_loc_conf(cfg[\"num_classes\"], cfg[\"bbox_aspect_num\"])\n",
    "\n",
    "        # DBox 작성\n",
    "        dbox = DBox(cfg)\n",
    "        self.dbox_list = dbox.make_dbox_list()\n",
    "\n",
    "        # 추론 시 Detect 클래스 준비\n",
    "        if phase == 'inference':\n",
    "            self.detect = Detect()\n",
    "\n",
    "    def forward(self, x):\n",
    "        sources = list()  # loc와 conf에 입력 source1 ~ 6 저장\n",
    "        loc = list()  # loc의 출력 저장\n",
    "        conf = list()  # conf의 출력 저장\n",
    "\n",
    "        # vgg의 conv4_3까지 계산\n",
    "        for k in range(23):\n",
    "            x = self.vgg[k](x)\n",
    "\n",
    "        # conv4_3의 출력을 L2Norm에 입력하고, source1을 작성하여 sources에 추가\n",
    "        source1 = self.L2Norm(x)\n",
    "        sources.append(source1)\n",
    "\n",
    "        # vgg를 마지막까지 계산하여 source2를 작성하고 sources에 추가\n",
    "        for k in range(23, len(self.vgg)):\n",
    "            x = self.vgg[k](x)\n",
    "\n",
    "        sources.append(x)\n",
    "\n",
    "        # extras의 conv와 ReLU 계산\n",
    "        # source3～6을 sources에 추가\n",
    "        for k, v in enumerate(self.extras):\n",
    "            x = F.relu(v(x), inplace=True)\n",
    "            if k % 2 == 1:  # conv→ReLU→cov→ReLU를 하여 source에 넣는다.\n",
    "                sources.append(x)\n",
    "\n",
    "        # source1 ~ 6 에 각각 대응하는 합성곱을 1회씩 적용\n",
    "        # zip으로 for 루프의 여러 리스트 요소 취득\n",
    "        # source1 ~ 6 까지 있어 루프가 6회 실시\n",
    "        for (x, l, c) in zip(sources, self.loc, self.conf):\n",
    "            # Permute로 요소의 순서를 교체\n",
    "            loc.append(l(x).permute(0, 2, 3, 1).contiguous())\n",
    "            conf.append(c(x).permute(0, 2, 3, 1).contiguous())\n",
    "            # l(x), c(x)로 합성곱 실행\n",
    "            # l(x), c(x)으 ㅣ출력 크기는 [batch_num, 4*화면비의 종류 수 , featuremap높이, featuremap폭]\n",
    "            # source에 따라 화면비으 ㅣ종류 수가 다르며, 번거로워 순서를 바꾸어서 조정\n",
    "            # permute로 요소 순서를 당므과 같이 교체 \n",
    "            # [minibatch 수 , featuremap 수 , featuremap 수 ,4*화면비의 종류 수]\n",
    "            # torch.contiguous()은 메모리 상에 연속적으로 요소를 배치하는 명령\n",
    "            # 이후 view 함수 사용\n",
    "            # view를 수행하므로 대상의 변수가 메모리 상에 연속적으로 배치되어야 한다.\n",
    "\n",
    "        # loc와 conf의 모양 변형\n",
    "        # loc의 크기는 torch.Size([batch_num, 34928])\n",
    "        # conf의 크기는 torch.Size([batch_num, 183372])가 된다.\n",
    "        loc = torch.cat([o.view(o.size(0), -1) for o in loc], 1)\n",
    "        conf = torch.cat([o.view(o.size(0), -1) for o in conf], 1)\n",
    "\n",
    "        # loc와 conf의 모양 조정\n",
    "        # lloc의 크기는 torch.Size([batch_num, 8732, 4])\n",
    "        # conf의 크기는 torch.Size([batch_num, 8732, 21])\n",
    "        loc = loc.view(loc.size(0), -1, 4)\n",
    "        conf = conf.view(conf.size(0), -1, self.num_classes)\n",
    "\n",
    "        # 마지막으로 출력\n",
    "        output = (loc, conf, self.dbox_list)\n",
    "\n",
    "        if self.phase == \"inference\":  #  추론 시\n",
    "            # detect 클래스의 forward 실행\n",
    "            # 반환 값의 크기는 torch.Size([batch_num, 21, 200, 5])\n",
    "            return self.detect(output[0], output[1], output[2])\n",
    "\n",
    "        else:  # 학습 시\n",
    "            return output\n",
    "            # 반환 값은 (loc, conf, dbox_list)의 튜플"
   ]
  },
  {
   "cell_type": "code",
   "execution_count": 62,
   "id": "140d55a5-86c4-4356-9ea6-5220b98cc657",
   "metadata": {},
   "outputs": [],
   "source": [
    "# Decode"
   ]
  },
  {
   "cell_type": "code",
   "execution_count": 63,
   "id": "593d4a88-9f3d-4926-8ea3-47e70052d936",
   "metadata": {},
   "outputs": [],
   "source": [
    "# 오프셋 정보로  DBox를 BBox로 변환하는 함수\n",
    "\n",
    "def decode(loc, dbox_list):\n",
    "    \"\"\"\n",
    "    오프셋 정보로  DBox를 BBox로 변환한다.\n",
    "    Parameters\n",
    "    ----------\n",
    "    loc:  [8732,4]\n",
    "        SSD 모델로 추론하는 오프셋 정보\n",
    "    dbox_list: [8732,4]\n",
    "        DBox 정보\n",
    "    Returns\n",
    "    -------\n",
    "    boxes : [xmin, ymin, xmax, ymax]\n",
    "        BBox 정보\n",
    "    \"\"\"\n",
    "\n",
    "    # DBox는 [cx, cy, width, height]로 저장되었다.\n",
    "    # loc도 [Δcx, Δcy, Δwidth, Δheight]로 저장되었다.\n",
    "\n",
    "    # 오프셋 정보로 BBox를 구한다.\n",
    "    boxes = torch.cat((\n",
    "        dbox_list[:, :2] + loc[:, :2] * 0.1 * dbox_list[:, 2:],\n",
    "        dbox_list[:, 2:] * torch.exp(loc[:, 2:] * 0.2)), dim=1)\n",
    "    # boxes의 크기는 torch.Size([8732, 4])가 된다.\n",
    "\n",
    "    # BBox의 좌표 정보를 [cx, cy, width, height]에서 [xmin, ymin, xmax, ymax] 로 변경\n",
    "    boxes[:, :2] -= boxes[:, 2:] / 2  # 좌표 (xmin,ymin)로 변환\n",
    "    boxes[:, 2:] += boxes[:, :2]  # 좌표 (xmax,ymax)로 변환"
   ]
  },
  {
   "cell_type": "markdown",
   "id": "67c08975-451f-438a-8ffd-9f982a20efc1",
   "metadata": {},
   "source": [
    "# Non-maximum Suppression 실시 함수 구현\n",
    "\n",
    "미리 8,732개의 DBox를 준비하여 물체를 감지하므로, BBox를 계산하면 화상 속 동일한 물체에 다른 BBox가 조금 다르게 복수 피팅 될 때가 있다. \n",
    "\n",
    "겹치는 BBox를 삭제하고 하나의 물체에 하나의 BBox만 남기는 처리를 Non-Maximum Suppression 이라고 한다."
   ]
  },
  {
   "cell_type": "code",
   "execution_count": 64,
   "id": "6b04a080-96a8-41ef-b536-c3f1f51745dd",
   "metadata": {},
   "outputs": [],
   "source": [
    "# Non-Maximum Suppression을 실시하는 함수\n",
    "\n",
    "\n",
    "def nm_suppression(boxes, scores, overlap=0.45, top_k=200):\n",
    "    \"\"\"\n",
    "    Non-Maximum Suppression을 실시하는 함수\n",
    "    boxes중 겹치는（overlap이상) BBox 삭제\n",
    "    Parameters\n",
    "    ----------\n",
    "    boxes : [신뢰도 임곗값（0.01)을 넘은 BBox 수,4]\n",
    "        BBox 정보\n",
    "    scores :[신뢰도 임곗값（0.01)을 넘은 BBox 수]\n",
    "        conf 정보\n",
    "    Returns\n",
    "    -------\n",
    "    keep : 리스트\n",
    "        conf의 내림차순으로 nms를 통과한 index를 저장\n",
    "    count：int\n",
    "        nms를 통과한 BBox 수\n",
    "    \"\"\"\n",
    "\n",
    "    # return 모형 작성\n",
    "    count = 0\n",
    "    keep = scores.new(scores.size(0)).zero_().long()\n",
    "    # keep：torch.Size([신뢰도 임곗값을 넘은 BBox 수)], 요소는 전부 0\n",
    "\n",
    "    # 각 BBox의 면적 area 계산\n",
    "    x1 = boxes[:, 0]\n",
    "    y1 = boxes[:, 1]\n",
    "    x2 = boxes[:, 2]\n",
    "    y2 = boxes[:, 3]\n",
    "    area = torch.mul(x2 - x1, y2 - y1)\n",
    "\n",
    "    # boxes 복사. 나중에 BBox 중복도(IOU) 계산 시 모형으로 준비\n",
    "    tmp_x1 = boxes.new()\n",
    "    tmp_y1 = boxes.new()\n",
    "    tmp_x2 = boxes.new()\n",
    "    tmp_y2 = boxes.new()\n",
    "    tmp_w = boxes.new()\n",
    "    tmp_h = boxes.new()\n",
    "\n",
    "    # scores를 오름차순으로 나열\n",
    "    v, idx = scores.sort(0)\n",
    "\n",
    "    # 상위 top_k개(200개)의 BBox index를 꺼낸다(200개가 존재하지 않는 경우도 있음)\n",
    "    idx = idx[-top_k:]\n",
    "\n",
    "    # idx의 요소 수가 0이 아닌 한 루프한다.\n",
    "    while idx.numel() > 0:\n",
    "        i = idx[-1]  # conf의 최대 index를 i로 지정\n",
    "\n",
    "        # keep의 끝에 conf 최대 index 저장\n",
    "        # 이 index의 BBox와 크게 겹치는 BBox를 삭제\n",
    "        keep[count] = i\n",
    "        count += 1\n",
    "\n",
    "        # 마지막 BBox는 루프를 빠져나옴\n",
    "        if idx.size(0) == 1:\n",
    "            break\n",
    "\n",
    "        # 현재 conf 최대의 index를 keep에 저장했으므로 idx를 하나 감소시킴\n",
    "        idx = idx[:-1]\n",
    "\n",
    "        # -------------------\n",
    "        # 지금부터 keep에 저장한 BBox와 크게 겹치는 BBox를 추출하여 삭제\n",
    "        # -------------------\n",
    "        # 하나 감소시킨 idx까지의 BBox를 out으로 지정한 변수로 작성\n",
    "        torch.index_select(x1, 0, idx, out=tmp_x1)\n",
    "        torch.index_select(y1, 0, idx, out=tmp_y1)\n",
    "        torch.index_select(x2, 0, idx, out=tmp_x2)\n",
    "        torch.index_select(y2, 0, idx, out=tmp_y2)\n",
    "\n",
    "        # 모든 BBox를 현재 BBox=index가 i로 겹치는 값까지로 설정(clamp)\n",
    "        tmp_x1 = torch.clamp(tmp_x1, min=x1[i])\n",
    "        tmp_y1 = torch.clamp(tmp_y1, min=y1[i])\n",
    "        tmp_x2 = torch.clamp(tmp_x2, max=x2[i])\n",
    "        tmp_y2 = torch.clamp(tmp_y2, max=y2[i])\n",
    "\n",
    "        # w와 h의 텐서 크기를 index 하나 줄인 것으로 한다.\n",
    "        tmp_w.resize_as_(tmp_x2)\n",
    "        tmp_h.resize_as_(tmp_y2)\n",
    "\n",
    "        # clamp한 상태에서 BBox의 폭과 높이를 구한다.\n",
    "        tmp_w = tmp_x2 - tmp_x1\n",
    "        tmp_h = tmp_y2 - tmp_y1\n",
    "\n",
    "        # 폭이나 높이가 음수인 것은 0으로 한다.\n",
    "        tmp_w = torch.clamp(tmp_w, min=0.0)\n",
    "        tmp_h = torch.clamp(tmp_h, min=0.0)\n",
    "\n",
    "        # clamp된 상태 면적을 구한다.\n",
    "        inter = tmp_w*tmp_h\n",
    "\n",
    "        # IoU = intersect 부분 / (area(a) + area(b) - intersect 부분) 계산\n",
    "        rem_areas = torch.index_select(area, 0, idx)  # 각 BBox의 원래 면적\n",
    "        union = (rem_areas - inter) + area[i]  # 두 구역의 합(OR) 면적\n",
    "        IoU = inter/union\n",
    "\n",
    "        # IoU가 overlap보다 작은 idx만 남긴다\n",
    "        idx = idx[IoU.le(overlap)]  # le은 Less than or Equal to 처리를 하는 연산\n",
    "        # IoU가 overlap보다 큰 idx는 처음 선택한 keep에 저장한 idx와 동일한 물체에 BBox를 둘러싸고 있어 삭제\n",
    "    \n",
    "    # while 루프에서 빠져나오면 종료\n",
    "\n",
    "    return keep, count"
   ]
  },
  {
   "cell_type": "markdown",
   "id": "544d9654-d49a-4992-8979-6d2367487ceb",
   "metadata": {},
   "source": [
    "# Detect"
   ]
  },
  {
   "cell_type": "code",
   "execution_count": 65,
   "id": "77b4bb51-b553-49de-a4a2-9d79ff7cd756",
   "metadata": {},
   "outputs": [],
   "source": [
    "class Detect(Function):\n",
    "\n",
    "    def __init__(self, conf_thresh=0.01, top_k=200, nms_thresh=0.45):\n",
    "        self.softmax = nn.Softmax(dim=-1)  \n",
    "        # conf를 소프트맥스 함수로 정규화하기 위해 준비\n",
    "        self.conf_thresh = conf_thresh  \n",
    "        # conf가 conf_thresh=0.01보다 높은 DBox만 취급\n",
    "        self.top_k = top_k  \n",
    "        # conf가 높은 top_k개를 nm_supression으로 계산에 사용하는 top_k = 200\n",
    "        self.nms_thresh = nms_thresh  \n",
    "        # nm_supression으로 IOU가 nms_thresh=0.45보다 크면 동일한 물체의 BBox로 간주\n",
    "\n",
    "    def forward(self, loc_data, conf_data, dbox_list):\n",
    "        \"\"\"\n",
    "        순전파 계산 실행\n",
    "        \n",
    "        Parameters\n",
    "        ----------\n",
    "        loc_data:  [batch_num,8732,4]\n",
    "            오프셋 정보\n",
    "        conf_data: [batch_num, 8732,num_classes]\n",
    "            감지 신뢰도\n",
    "        dbox_list: [8732,4]\n",
    "            DBox 정보\n",
    "        Returns\n",
    "        -------\n",
    "        output : torch.Size([batch_num, 21, 200, 5])\n",
    "            （batch_num, 클래스, conf의 top200, BBox 정보）\n",
    "        \"\"\"\n",
    "\n",
    "        # 각 크기 취득\n",
    "        num_batch = loc_data.size(0)  # 미니 배치 크기\n",
    "        num_dbox = loc_data.size(1)  # DBox의 수 = 8732\n",
    "        num_classes = conf_data.size(2)  # 클래스 수 = 21\n",
    "\n",
    "        # conf는 소프트맥스를 적용하여 정규화\n",
    "        conf_data = self.softmax(conf_data)\n",
    "\n",
    "        # 출력 형식을 작성. 텐서 크기 [minibatch 수, 21, 200, 5]\n",
    "        output = torch.zeros(num_batch, num_classes, self.top_k, 5)\n",
    "\n",
    "        # cof_data 순서를 [batch_num,8732,num_classes]에서 [batch_num, num_classes,8732]로 변경\n",
    "        conf_preds = conf_data.transpose(2, 1)\n",
    "\n",
    "        # 미니 배치마다 루프\n",
    "        for i in range(num_batch):\n",
    "\n",
    "            # 1. loc와 DBox로 수정한 BBox [xmin, ymin, xmax, ymax] 를 구한다\n",
    "            decoded_boxes = decode(loc_data[i], dbox_list)\n",
    "\n",
    "            # conf의 복사본 작성\n",
    "            conf_scores = conf_preds[i].clone()\n",
    "\n",
    "            # 화상 클래스별 루프(배경 클래스의 index인 0은 계산하지 않고 index=1부터）\n",
    "            for cl in range(1, num_classes):\n",
    "\n",
    "                # 2.conf의 임곗값을 넘은 BBox를 꺼낸다.\n",
    "                # conf의 임곗값을 넘고 있는지 마스크를 작성하여\n",
    "                # 임곗값을 넘은 conf의 인덱스를 c_mask로 취득\n",
    "                c_mask = conf_scores[cl].gt(self.conf_thresh)\n",
    "                # gt는 Greater than을 의미. gt로 임곗값이 넘으면 1, 이하는 0\n",
    "                # conf_scores:torch.Size([21, 8732])\n",
    "                # c_mask:torch.Size([8732])\n",
    "\n",
    "                # scores는 torch.Size([임곗값을 넘은 BBox 수])\n",
    "                scores = conf_scores[cl][c_mask]\n",
    "\n",
    "                # 임곗값을 넘은 conf가 없는 경우, scores=[]는 아무것도 하지 않음.\n",
    "                if scores.nelement() == 0:  # nelement로 요소 수의 합계를 구함\n",
    "                    continue\n",
    "\n",
    "                # c_mask를 decoded_boxes에 적용할 수 있도록 크기 변경\n",
    "                l_mask = c_mask.unsqueeze(1).expand_as(decoded_boxes)\n",
    "                # l_mask:torch.Size([8732, 4])\n",
    "\n",
    "                # l_mask를 decoded_boxes로 적용\n",
    "                boxes = decoded_boxes[l_mask].view(-1, 4)\n",
    "                # decoded_boxes[l_mask]로 1차원이 되기 때문에\n",
    "                # view에서 (임곗값을 넘은 BBox 수, 4) 크기로 바꿈\n",
    "\n",
    "                # 3. Non-Maximum Suppression을 실시하여 중복되는 BBox 제거\n",
    "                ids, count = nm_suppression(\n",
    "                    boxes, scores, self.nms_thresh, self.top_k)\n",
    "                # ids：conf의 내림차순으로 Non-Maximum Suppression을 통과한 index 작성\n",
    "                # count：Non-Maximum Suppression를 통과한 BBox 수\n",
    "\n",
    "                # output에 Non-Maximum Suppression를 뺀 결과 저장\n",
    "                output[i, cl, :count] = torch.cat((scores[ids[:count]].unsqueeze(1),\n",
    "                boxes[ids[:count]]), 1)\n",
    "\n",
    "        return output  # torch.Size([1, 21, 200, 5])"
   ]
  },
  {
   "cell_type": "markdown",
   "id": "a2a1c10f-8a96-4e68-a375-2494bedc2f45",
   "metadata": {},
   "source": [
    "# MultiBoxLoss"
   ]
  },
  {
   "cell_type": "code",
   "execution_count": 66,
   "id": "3ebb28eb-7f25-458f-b23b-4ebd788b1bca",
   "metadata": {},
   "outputs": [],
   "source": [
    "class MultiBoxLoss(nn.Module):\n",
    "    \"\"\"SSD의 손실함수 클래스 \"\"\"\n",
    "\n",
    "    def __init__(self, jaccard_thresh=0.5, neg_pos=3, device='cpu'):\n",
    "        super(MultiBoxLoss, self).__init__()\n",
    "        self.jaccard_thresh = jaccard_thresh  # 0.5 match 함수의 jaccard 계수의 임계치\n",
    "        self.negpos_ratio = neg_pos  # 3:1 Hard Negative Mining의 음과 양 비율\n",
    "        self.device = device  # 계산 device(CPU | GPU)\n",
    "\n",
    "    def forward(self, predictions, targets):\n",
    "        \"\"\"\n",
    "        손실함수 계산\n",
    "        Parameters\n",
    "        ----------\n",
    "        predictions : SSD net의 훈련 시 출력 (tuple)\n",
    "            (loc=torch.Size([num_batch, 8732, 4]), conf=torch.Size([num_batch, \n",
    "            8732, 21]), dbox_list=torch.Size [8732,4])。\n",
    "        targets : [num_batch, num_objs, 5]\n",
    "            5는 정답인 어노테이션 정보[xmin, ymin, xmax, ymax, label_ind]\n",
    "        Returns\n",
    "        -------\n",
    "        loss_l : 텐서\n",
    "            loc의 손실 값\n",
    "        loss_c : 텐서\n",
    "            conf의 손실 값\n",
    "        \"\"\"\n",
    "\n",
    "        # SSD의 출력이 튜플로 되어 있어 개별적으로 분리함\n",
    "        loc_data, conf_data, dbox_list = predictions\n",
    "\n",
    "        # 요소 수를 파악\n",
    "        num_batch = loc_data.size(0)  # 미니 배치 크기\n",
    "        num_dbox = loc_data.size(1)  # DBox의 수 = 8732\n",
    "        num_classes = conf_data.size(2)  # 클래스 수= 21\n",
    "\n",
    "        # 손실 계산에 사용할 것을 저장하는 변수 작성\n",
    "        # conf_t_label：각 DBox에 가장 가까운 정답 BBox의 라벨을 저장 \n",
    "        # loc_t: 각 DBox에 가장 가까운 정답 BBox의 위치 정보 저장 \n",
    "        conf_t_label = torch.LongTensor(num_batch, num_dbox).to(self.device)\n",
    "        loc_t = torch.Tensor(num_batch, num_dbox, 4).to(self.device)\n",
    "\n",
    "        # loc_t와 conf_t_label에 \n",
    "        # DBox와 정답 어노테이션 targets를 amtch한 결과 덮어쓰기\n",
    "        for idx in range(num_batch):  # 미니 배치 루프\n",
    "\n",
    "            # 현재 미니 배치의 정답 어노테이션 BBox와 라벨 취득\n",
    "            truths = targets[idx][:, :-1].to(self.device)  # BBox\n",
    "            # 라벨 [물체1 라벨, 물체2 라벨, ...]\n",
    "            labels = targets[idx][:, -1].to(self.device)\n",
    "\n",
    "            # 디폴트 박스를 새로운 변수로 준비\n",
    "            dbox = dbox_list.to(self.device)\n",
    "\n",
    "            # match 함수를 실행하여 loc_t와 conf_t_label 내용 갱신\n",
    "            # loc_t: 각 DBox에 가장 가까운 정답 BBox 위치 정보가 덮어써짐.\n",
    "            # conf_t_label：각 DBox에 가장 가까운 정답 BBox 라벨이 덮어써짐.\n",
    "            # 단, 가장 가까운 BBox와 jaccard overlap이 0.5보다 작은 경우,\n",
    "            # 정답 BBox의 라벨 conf_t_label은 배경 클래스 0으로 한다.\n",
    "            variance = [0.1, 0.2]\n",
    "            # 이 variance는 DBox에서 BBox로 보정 계산할 때 사용하는 식의 계수\n",
    "            match(self.jaccard_thresh, truths, dbox,\n",
    "                  variance, labels, loc_t, conf_t_label, idx)\n",
    "\n",
    "        # ----------\n",
    "        # 위치 손실 : loss_l을 계산\n",
    "        # Smooth L1 함수로 손실 계산. 단, 물체를 발견한 DBox의 오프셋만 계산\n",
    "        # ----------\n",
    "        # 물체를 감지한 BBox를 꺼내는 마스크 작성\n",
    "        pos_mask = conf_t_label > 0  # torch.Size([num_batch, 8732])\n",
    "\n",
    "        # pos_mask를 loc_data 크기로 변형\n",
    "        pos_idx = pos_mask.unsqueeze(pos_mask.dim()).expand_as(loc_data)\n",
    "\n",
    "        # Positive DBox의 loc_data와 지도 데이터 loc_t 취득\n",
    "        loc_p = loc_data[pos_idx].view(-1, 4)\n",
    "        loc_t = loc_t[pos_idx].view(-1, 4)\n",
    "\n",
    "        # 물체를 발견한 Positive DBox의 오프셋 정보 loc_t의 손실(오차)를 계산\n",
    "        loss_l = F.smooth_l1_loss(loc_p, loc_t, reduction='sum')\n",
    "\n",
    "        # ----------\n",
    "        # 클래스 예측의 손실 : loss_c를 계산\n",
    "        # 교차 엔트로피 오차 함수로 손실 계산. 단 배경 클래스가 정답인 DBox가 압도적으로 많으므로,\n",
    "        # Hard Negative Mining을 실시하여 물체 발견 DBox 및 배경 클래스 DBox의 비율이 1:3이 되도록 한다.\n",
    "        # 배경 클래스 DBox로 예상한 것 중 손실이 적은 것은 클래스 예측 손실에서 제외\n",
    "        # ----------\n",
    "        batch_conf = conf_data.view(-1, num_classes)\n",
    "\n",
    "        # 클래스 예측의 손실함수 계산(reduction='none'으로 하여 합을 취하지 않고 차원 보존)\n",
    "        loss_c = F.cross_entropy(\n",
    "            batch_conf, conf_t_label.view(-1), reduction='none')\n",
    "\n",
    "        # -----------------\n",
    "        # Negative DBox중 Hard Negative Mining으로 \n",
    "        # 추출하는 것을 구하는 마스크 작성\n",
    "        # -----------------\n",
    "\n",
    "        # 물체를 발견한 Positive DBox의 손실을 0으로 한다.\n",
    "        # (주의) 물체는 label이 1 이상, 라벨 0은 배경을 의미\n",
    "        num_pos = pos_mask.long().sum(1, keepdim=True)  # 미니 배치별 물체 클래스 예측 수\n",
    "        loss_c = loss_c.view(num_batch, -1)  # torch.Size([num_batch, 8732])\n",
    "        loss_c[pos_mask] = 0  # 물체를 발견한 DBox는 손실 0으로 한다.\n",
    "\n",
    "        # Hard Negative Mining\n",
    "        # 각 DBox 손실의 크기 loss_c 순위 idx_rank를 구함\n",
    "        _, loss_idx = loss_c.sort(1, descending=True)\n",
    "        _, idx_rank = loss_idx.sort(1)\n",
    "\n",
    "        #  (주의) 구현된 코드는 특수하며 직관적이지 않음.\n",
    "        # 위 두 줄의 요점은 각 DBox에 대해 손실 크기가 몇 번째인지의 정보를 \n",
    "        # idx_rank 변수로 빠르게 얻는 코드이다.\n",
    "        \n",
    "        # DBox의 손실 값이 큰 쪽부터 내림차순으로 정렬하여, \n",
    "        # DBox의 내림차순의 index를 loss_idx에 저장한다.\n",
    "        # 손실 크기 loss_c의 순위 idx_rank를 구한다.\n",
    "        # 내림차순이 된 배열 index인 loss_idx를 0부터 8732까지 오름차순으로 다시 정렬하기 위하여\n",
    "        # 몇 번째 loss_idx의 인덱스를 취할 지 나타내는 것이 idx_rank이다.\n",
    "        # 예를 들면 idx_rank 요소의 0번째 = idx_rank[0]을 구하는 것은 loss_idx의 값이 0인 요소,\n",
    "        # 즉 loss_idx[?] =0은 원래 loss_c의 요소 0번째는 내림차순으로 정렬된 loss_idx의 \n",
    "        # 몇 번째입니까? 를구하는 것이 되어 결과적으로, \n",
    "        # ? = idx_rank[0]은 loss_c의 요소 0번째가 내림차순으로 몇 번째인지 나타냄\n",
    "\n",
    "        # 배경 DBox의 수 num_neg를 구한다. HardNegative Mining으로 \n",
    "        # 물체 발견 DBox으 ㅣ수 num_pos의 세 배 (self.negpos_ratio 배)로 한다.\n",
    "        # DBox의 수를 초과한 경우에는 DBox의 수를 상한으로 한다.\n",
    "        num_neg = torch.clamp(num_pos*self.negpos_ratio, max=num_dbox)\n",
    "\n",
    "        # idx_rank에 각 DBox의 손실 크기가 위에서부터 몇 번째인지 저장되었다.\n",
    "        # 배경 DBox의 수 num_neg보다 순위가 낮은(손실이 큰) DBox를 취하는 마스크 작성\n",
    "        # torch.Size([num_batch, 8732])\n",
    "        neg_mask = idx_rank < (num_neg).expand_as(idx_rank)\n",
    "\n",
    "        # -----------------\n",
    "        # (종료) 지금부터 Negative DBox 중 Hard Negative Mining으로 추출할 것을 구하는 마스크를 작성\n",
    "        # -----------------\n",
    "\n",
    "        # 마스크 모양을 고쳐 conf_data에 맞춘다\n",
    "        # pos_idx_mask는 Positive DBox의 conf를 꺼내는 마스크이다.\n",
    "        # neg_idx_mask는 Hard Negative Mining으로 추출한 Negative DBox의 conf를 꺼내는 마스크이다.\n",
    "        # pos_mask：torch.Size([num_batch, 8732])\n",
    "        # --> pos_idx_mask：torch.Size([num_batch, 8732, 21])\n",
    "        pos_idx_mask = pos_mask.unsqueeze(2).expand_as(conf_data)\n",
    "        neg_idx_mask = neg_mask.unsqueeze(2).expand_as(conf_data)\n",
    "\n",
    "        # conf_data에서 pos와 neg만 꺼내서 conf_hnm으로 한다. \n",
    "        # 형태는 torch.Size([num_pos+num_neg, 21])\n",
    "        conf_hnm = conf_data[(pos_idx_mask+neg_idx_mask).gt(0)\n",
    "                             ].view(-1, num_classes)\n",
    "        # gt는 greater than (>)의 약칭. mask가 1인 index를 꺼낸다\n",
    "        # pos_idx_mask+neg_idx_mask는 덧셈이지만 index로 mask를 정리할 뿐임.\n",
    "        # pos이든 neg이든 마스크가 1인 것을 더해 하나의 리스트로 만들어 이를 gt로 췯그한다.\n",
    "\n",
    "        # 마찬가지로 지도 데이터인 conf_t_label에서 pos와 neg만 꺼내, conf_t_label_hnm 으로 \n",
    "        # torch.Size([pos+neg]) 형태가 된다\n",
    "        conf_t_label_hnm = conf_t_label[(pos_mask+neg_mask).gt(0)]\n",
    "\n",
    "        # confidence의 손실함수 계산(요소의 합계=sum을 구함)\n",
    "        loss_c = F.cross_entropy(conf_hnm, conf_t_label_hnm, reduction='sum')\n",
    "\n",
    "        # 물체를 발견한 BBox의 수 N (전체 미니 배치의 합계) 으로 손실을 나눈다.\n",
    "        N = num_pos.sum()\n",
    "        loss_l /= N\n",
    "        loss_c /= N\n",
    "\n",
    "        return loss_l, loss_c"
   ]
  },
  {
   "cell_type": "code",
   "execution_count": 72,
   "id": "cf78b3d3-577a-49e5-8e2b-d4072fef7b2c",
   "metadata": {},
   "outputs": [],
   "source": [
    "root_path='C:/Users/user/Desktop/SSD/data/VOCdevkit/VOC2012/'"
   ]
  },
  {
   "cell_type": "code",
   "execution_count": 74,
   "id": "ca1ff41b-ce65-4853-bffd-252b02ec9373",
   "metadata": {},
   "outputs": [],
   "source": [
    "train_img_list, train_anno_list, val_img_list, val_anno_list=make_datapath_list(rootpath=root_path)"
   ]
  },
  {
   "cell_type": "markdown",
   "id": "dcee882b-42d6-444f-9a5a-26d8439eae3f",
   "metadata": {},
   "source": [
    "# 데이터셋 구현"
   ]
  },
  {
   "cell_type": "code",
   "execution_count": 76,
   "id": "2507e7b8-ee11-4841-9c98-d95fd2800ca1",
   "metadata": {},
   "outputs": [],
   "source": [
    "train_img_list, train_anno_list, val_img_list, val_anno_list = make_datapath_list(rootpath=root_path)\n",
    "\n",
    "# Dataset 작성\n",
    "voc_classes = ['aeroplane', 'bicycle', 'bird', 'boat', 'bottle', 'bus', 'car', 'cat',\n",
    "              'chair', 'cow', 'diningtable', 'dog', 'horse', 'motorbike', 'person', 'pottedplant',\n",
    "              'sheep','sofa','train','tvmonitor']\n",
    "\n",
    "color_mean = (104, 117, 123) # BGR 색 평균 값 \n",
    "\n",
    "input_size = 300 # input 크기를 300*300 으로 설정\n",
    "\n",
    "train_dataset = VOCDataset(train_img_list, train_anno_list, \n",
    "phase='train', transform=DataTransform(\n",
    "                            input_size, color_mean), transform_anno=Anno_xml2list(voc_classes))\n",
    "\n",
    "val_dataset = VOCDataset(val_img_list, val_anno_list, phase='val',\n",
    "\t\t\t\t\t\ttransform=DataTransform(input_size, color_mean), \n",
    "                            transform_anno=Anno_xml2list(voc_classes))\n",
    "\n",
    "# dataloader 작성\n",
    "batch_size=32\n",
    "\n",
    "train_dataloader = data.DataLoader(\n",
    "                            train_dataset, batch_size=batch_size, \n",
    "                            shuffle=True, \n",
    "                       \tcollate_fn = od_collate_fn)\n",
    "\n",
    "val_dataloader = data.DataLoader(\n",
    "                            val_dataset, batch_size = batch_size,\n",
    "                            shuffle=False, collate_fn= od_collate_fn)\n",
    "\n",
    "# 사전 오브젝트로 정리\n",
    "dataloaders_dict = {'train' : train_dataloader, 'val' : val_dataloader}"
   ]
  },
  {
   "cell_type": "code",
   "execution_count": 79,
   "id": "c6e02e06-f35c-470f-955d-2f43809ff85b",
   "metadata": {},
   "outputs": [
    {
     "name": "stdout",
     "output_type": "stream",
     "text": [
      "사용 중인 장치 : cuda:0\n",
      "네트워크 설정 완료 : 학습된 가중치를 로드했습니다.\n"
     ]
    }
   ],
   "source": [
    "# SSD300 설정\n",
    "ssd_cfg = {\n",
    "    'num_classes' : 21,\n",
    "    'input_size' : 300,\n",
    "    'bbox_aspect_num' : [4, 6, 6, 6, 4, 4],  # 출력할 DBox의 화면 비 종류\n",
    "    'feature_maps' : [38, 19, 10, 5, 3, 1],  # 각 source 화상 크기\n",
    "    'steps' : [8, 16, 32, 64, 100, 300],\n",
    "    'min_sizes' : [30, 60, 111, 162, 213, 264] , # DBox 크기(최소)\n",
    "    'max_sizes' : [60, 111, 162, 213, 264, 315], # DBox 크기(최대)\n",
    "    'aspect_ratios' : [[2], [2,3], [2,3], [2,3], [2], [2]]\n",
    "}\n",
    "\n",
    "# SSD 네트워크 모델\n",
    "net = SSD(phase='train', cfg=ssd_cfg)\n",
    "\n",
    "# SSD 초기 가중치 설정\n",
    "# ssd의 vgg에 가중치 로드\n",
    "vgg_weights = torch.load('./weights_model/vgg16_reducedfc.pth') # 다운 받아야함\n",
    "net.vgg.load_state_dict(vgg_weights)\n",
    "\n",
    "# ssd의 기타 네트워크 가중치는 He의 초기치로 초기화\n",
    "\n",
    "def weights_init(m) :\n",
    "    if isinstance(m, nn.Conv2d) :\n",
    "        init.kaiming_normal_(m.weight.data)\n",
    "        if m.bias is not None : # bias 항이 있는 경우\n",
    "            nn.init.constant_(m.bias, 0.0)\n",
    "            \n",
    "# He의 초기치 적용\n",
    "net.extras.apply(weights_init)\n",
    "net.loc.apply(weights_init)\n",
    "net.conf.apply(weights_init)\n",
    "\n",
    "# GPU를 사용할 수 있는지 확인\n",
    "device = torch.device('cuda:0' if torch.cuda.is_available() else 'cpu')\n",
    "print(f'사용 중인 장치 : {device}')\n",
    "\n",
    "print('네트워크 설정 완료 : 학습된 가중치를 로드했습니다.')"
   ]
  },
  {
   "cell_type": "markdown",
   "id": "8e63c687-f4ae-4293-be29-0ff19f44e33d",
   "metadata": {},
   "source": [
    "# 손실함수 구현 및 학습"
   ]
  },
  {
   "cell_type": "code",
   "execution_count": 89,
   "id": "1330fd3d-95ff-4022-b588-a1c1277c7bef",
   "metadata": {},
   "outputs": [
    {
     "name": "stdout",
     "output_type": "stream",
     "text": [
      "사용 중인 장치 : cuda:0\n",
      "--------------------\n",
      "Epoch : 1/50\n",
      "--------------------\n",
      "(train)\n",
      "boxes1 [[  0.   0. 499. 374.]]\n",
      "boxes1 [[ 15.  91. 480. 368.]\n",
      " [312. 288. 499. 374.]]\n",
      "boxes1 [[137. 273. 254. 499.]\n",
      " [ 11. 246. 130. 499.]\n",
      " [143. 296. 269. 494.]]\n",
      "boxes1 [[109. 130. 493. 283.]]\n",
      "boxes1 [[ 11.   7. 396. 374.]]\n",
      "boxes1 [[  0. 168. 335. 460.]\n",
      " [142. 210. 262. 278.]\n",
      " [165. 212. 223. 269.]]\n",
      "boxes1 [[ 10. 173.  66. 208.]]\n",
      "boxes1 [[ 30. 106. 473. 257.]]\n",
      "boxes1 [[  0.   0. 488. 489.]]\n",
      "boxes1 [[192. 411. 304. 469.]\n",
      " [285. 408. 374. 484.]\n",
      " [  0. 339.  34. 365.]]\n",
      "boxes1 [[156. 113. 439. 302.]]\n",
      "boxes1 [[ 28.  61. 253. 275.]\n",
      " [253.  52. 470. 263.]]\n",
      "boxes1 [[ 72.   5. 499. 374.]]\n",
      "boxes1 [[  0.   0. 499. 319.]\n",
      " [ 29.   0. 499. 169.]]\n",
      "boxes1 [[101.   0. 499. 374.]]\n",
      "boxes1 [[170. 121. 418. 360.]\n",
      " [202.   0. 455. 134.]]\n",
      "boxes1 [[312. 151. 389. 183.]]\n",
      "boxes1 [[  0. 152. 314. 374.]]\n",
      "boxes1 [[328.  84. 495. 207.]\n",
      " [157. 167. 376. 263.]\n",
      " [274. 142. 321. 258.]\n",
      " [324. 149. 351. 261.]\n",
      " [166. 139. 184. 187.]\n",
      " [217. 142. 231. 177.]\n",
      " [189. 141. 206. 185.]\n",
      " [ 52. 146.  64. 185.]]\n",
      "boxes1 [[267. 104. 499. 239.]\n",
      " [ 67. 101. 314. 274.]\n",
      " [432.  81. 499. 120.]\n",
      " [339.  83. 436. 109.]\n",
      " [240.  86. 314. 124.]\n",
      " [135.  87. 215. 124.]\n",
      " [291.  72. 318. 130.]\n",
      " [351.  70. 367. 109.]]\n",
      "boxes1 [[ 41.  34. 423. 352.]]\n",
      "boxes1 [[252.  91. 499. 332.]]\n",
      "boxes1 [[269. 136. 336. 186.]\n",
      " [246. 150. 296. 182.]\n",
      " [302. 125. 344. 173.]]\n",
      "boxes1 [[ 25. 163.  98. 229.]\n",
      " [ 15. 241. 134. 360.]\n",
      " [106.  35. 353. 499.]\n",
      " [221. 130. 367. 390.]]\n",
      "boxes1 [[  8.  21. 490. 197.]]\n",
      "boxes1 [[  0.  88. 149. 200.]\n",
      " [323.  42. 499. 374.]]\n",
      "boxes1 [[305. 260. 326. 315.]\n",
      " [206. 210. 299. 300.]]\n",
      "boxes1 [[206. 155. 259. 244.]]\n",
      "boxes1 [[  0.   0. 307. 332.]]\n",
      "boxes1 [[ 65.  45. 485. 198.]\n",
      " [  0. 100. 114. 164.]]\n",
      "boxes1 [[140. 293. 306. 429.]]\n",
      "boxes1 [[  0. 147. 245. 294.]\n",
      " [ 23. 179. 245. 271.]\n",
      " [118. 121. 245. 255.]]\n"
     ]
    },
    {
     "ename": "RuntimeError",
     "evalue": "CUDA out of memory. Tried to allocate 176.00 MiB (GPU 0; 4.00 GiB total capacity; 3.31 GiB already allocated; 0 bytes free; 3.39 GiB reserved in total by PyTorch) If reserved memory is >> allocated memory try setting max_split_size_mb to avoid fragmentation.  See documentation for Memory Management and PYTORCH_CUDA_ALLOC_CONF",
     "output_type": "error",
     "traceback": [
      "\u001b[1;31m---------------------------------------------------------------------------\u001b[0m",
      "\u001b[1;31mRuntimeError\u001b[0m                              Traceback (most recent call last)",
      "\u001b[1;32m~\\AppData\\Local\\Temp/ipykernel_12128/2302435263.py\u001b[0m in \u001b[0;36m<module>\u001b[1;34m\u001b[0m\n\u001b[0;32m    117\u001b[0m \u001b[1;31m# 학습 및 검증 실시\u001b[0m\u001b[1;33m\u001b[0m\u001b[1;33m\u001b[0m\u001b[0m\n\u001b[0;32m    118\u001b[0m \u001b[0mnum_epochs\u001b[0m \u001b[1;33m=\u001b[0m \u001b[1;36m50\u001b[0m\u001b[1;33m\u001b[0m\u001b[1;33m\u001b[0m\u001b[0m\n\u001b[1;32m--> 119\u001b[1;33m \u001b[0mtrain_model\u001b[0m\u001b[1;33m(\u001b[0m\u001b[0mnet\u001b[0m\u001b[1;33m,\u001b[0m \u001b[0mdataloaders_dict\u001b[0m\u001b[1;33m,\u001b[0m \u001b[0mcriterion\u001b[0m\u001b[1;33m,\u001b[0m \u001b[0moptimizer\u001b[0m\u001b[1;33m,\u001b[0m \u001b[0mnum_epochs\u001b[0m \u001b[1;33m=\u001b[0m \u001b[0mnum_epochs\u001b[0m\u001b[1;33m)\u001b[0m\u001b[1;33m\u001b[0m\u001b[1;33m\u001b[0m\u001b[0m\n\u001b[0m",
      "\u001b[1;32m~\\AppData\\Local\\Temp/ipykernel_12128/2302435263.py\u001b[0m in \u001b[0;36mtrain_model\u001b[1;34m(net, dataloaders_dict, criterion, optimizer, num_epochs)\u001b[0m\n\u001b[0;32m     64\u001b[0m                 \u001b[1;32mwith\u001b[0m \u001b[0mtorch\u001b[0m\u001b[1;33m.\u001b[0m\u001b[0mset_grad_enabled\u001b[0m\u001b[1;33m(\u001b[0m\u001b[0mphase\u001b[0m\u001b[1;33m==\u001b[0m\u001b[1;34m'train'\u001b[0m\u001b[1;33m)\u001b[0m \u001b[1;33m:\u001b[0m\u001b[1;33m\u001b[0m\u001b[1;33m\u001b[0m\u001b[0m\n\u001b[0;32m     65\u001b[0m                     \u001b[1;31m# 순전파 계산\u001b[0m\u001b[1;33m\u001b[0m\u001b[1;33m\u001b[0m\u001b[0m\n\u001b[1;32m---> 66\u001b[1;33m                     \u001b[0moutputs\u001b[0m \u001b[1;33m=\u001b[0m \u001b[0mnet\u001b[0m\u001b[1;33m(\u001b[0m\u001b[0mimages\u001b[0m\u001b[1;33m)\u001b[0m\u001b[1;33m\u001b[0m\u001b[1;33m\u001b[0m\u001b[0m\n\u001b[0m\u001b[0;32m     67\u001b[0m                     \u001b[0mloss_l\u001b[0m\u001b[1;33m,\u001b[0m \u001b[0mloss_c\u001b[0m \u001b[1;33m=\u001b[0m \u001b[0mcriterion\u001b[0m\u001b[1;33m(\u001b[0m\u001b[0moutputs\u001b[0m\u001b[1;33m,\u001b[0m \u001b[0mtargets\u001b[0m\u001b[1;33m)\u001b[0m\u001b[1;33m\u001b[0m\u001b[1;33m\u001b[0m\u001b[0m\n\u001b[0;32m     68\u001b[0m                     \u001b[0mloss\u001b[0m \u001b[1;33m=\u001b[0m \u001b[0mloss_l\u001b[0m \u001b[1;33m+\u001b[0m \u001b[0mloss_c\u001b[0m\u001b[1;33m\u001b[0m\u001b[1;33m\u001b[0m\u001b[0m\n",
      "\u001b[1;32m~\\anaconda3\\envs\\kwon\\lib\\site-packages\\torch\\nn\\modules\\module.py\u001b[0m in \u001b[0;36m_call_impl\u001b[1;34m(self, *input, **kwargs)\u001b[0m\n\u001b[0;32m   1108\u001b[0m         if not (self._backward_hooks or self._forward_hooks or self._forward_pre_hooks or _global_backward_hooks\n\u001b[0;32m   1109\u001b[0m                 or _global_forward_hooks or _global_forward_pre_hooks):\n\u001b[1;32m-> 1110\u001b[1;33m             \u001b[1;32mreturn\u001b[0m \u001b[0mforward_call\u001b[0m\u001b[1;33m(\u001b[0m\u001b[1;33m*\u001b[0m\u001b[0minput\u001b[0m\u001b[1;33m,\u001b[0m \u001b[1;33m**\u001b[0m\u001b[0mkwargs\u001b[0m\u001b[1;33m)\u001b[0m\u001b[1;33m\u001b[0m\u001b[1;33m\u001b[0m\u001b[0m\n\u001b[0m\u001b[0;32m   1111\u001b[0m         \u001b[1;31m# Do not call functions when jit is used\u001b[0m\u001b[1;33m\u001b[0m\u001b[1;33m\u001b[0m\u001b[0m\n\u001b[0;32m   1112\u001b[0m         \u001b[0mfull_backward_hooks\u001b[0m\u001b[1;33m,\u001b[0m \u001b[0mnon_full_backward_hooks\u001b[0m \u001b[1;33m=\u001b[0m \u001b[1;33m[\u001b[0m\u001b[1;33m]\u001b[0m\u001b[1;33m,\u001b[0m \u001b[1;33m[\u001b[0m\u001b[1;33m]\u001b[0m\u001b[1;33m\u001b[0m\u001b[1;33m\u001b[0m\u001b[0m\n",
      "\u001b[1;32m~\\AppData\\Local\\Temp/ipykernel_12128/1514234747.py\u001b[0m in \u001b[0;36mforward\u001b[1;34m(self, x)\u001b[0m\n\u001b[0;32m     31\u001b[0m         \u001b[1;31m# vgg의 conv4_3까지 계산\u001b[0m\u001b[1;33m\u001b[0m\u001b[1;33m\u001b[0m\u001b[0m\n\u001b[0;32m     32\u001b[0m         \u001b[1;32mfor\u001b[0m \u001b[0mk\u001b[0m \u001b[1;32min\u001b[0m \u001b[0mrange\u001b[0m\u001b[1;33m(\u001b[0m\u001b[1;36m23\u001b[0m\u001b[1;33m)\u001b[0m\u001b[1;33m:\u001b[0m\u001b[1;33m\u001b[0m\u001b[1;33m\u001b[0m\u001b[0m\n\u001b[1;32m---> 33\u001b[1;33m             \u001b[0mx\u001b[0m \u001b[1;33m=\u001b[0m \u001b[0mself\u001b[0m\u001b[1;33m.\u001b[0m\u001b[0mvgg\u001b[0m\u001b[1;33m[\u001b[0m\u001b[0mk\u001b[0m\u001b[1;33m]\u001b[0m\u001b[1;33m(\u001b[0m\u001b[0mx\u001b[0m\u001b[1;33m)\u001b[0m\u001b[1;33m\u001b[0m\u001b[1;33m\u001b[0m\u001b[0m\n\u001b[0m\u001b[0;32m     34\u001b[0m \u001b[1;33m\u001b[0m\u001b[0m\n\u001b[0;32m     35\u001b[0m         \u001b[1;31m# conv4_3의 출력을 L2Norm에 입력하고, source1을 작성하여 sources에 추가\u001b[0m\u001b[1;33m\u001b[0m\u001b[1;33m\u001b[0m\u001b[0m\n",
      "\u001b[1;32m~\\anaconda3\\envs\\kwon\\lib\\site-packages\\torch\\nn\\modules\\module.py\u001b[0m in \u001b[0;36m_call_impl\u001b[1;34m(self, *input, **kwargs)\u001b[0m\n\u001b[0;32m   1108\u001b[0m         if not (self._backward_hooks or self._forward_hooks or self._forward_pre_hooks or _global_backward_hooks\n\u001b[0;32m   1109\u001b[0m                 or _global_forward_hooks or _global_forward_pre_hooks):\n\u001b[1;32m-> 1110\u001b[1;33m             \u001b[1;32mreturn\u001b[0m \u001b[0mforward_call\u001b[0m\u001b[1;33m(\u001b[0m\u001b[1;33m*\u001b[0m\u001b[0minput\u001b[0m\u001b[1;33m,\u001b[0m \u001b[1;33m**\u001b[0m\u001b[0mkwargs\u001b[0m\u001b[1;33m)\u001b[0m\u001b[1;33m\u001b[0m\u001b[1;33m\u001b[0m\u001b[0m\n\u001b[0m\u001b[0;32m   1111\u001b[0m         \u001b[1;31m# Do not call functions when jit is used\u001b[0m\u001b[1;33m\u001b[0m\u001b[1;33m\u001b[0m\u001b[0m\n\u001b[0;32m   1112\u001b[0m         \u001b[0mfull_backward_hooks\u001b[0m\u001b[1;33m,\u001b[0m \u001b[0mnon_full_backward_hooks\u001b[0m \u001b[1;33m=\u001b[0m \u001b[1;33m[\u001b[0m\u001b[1;33m]\u001b[0m\u001b[1;33m,\u001b[0m \u001b[1;33m[\u001b[0m\u001b[1;33m]\u001b[0m\u001b[1;33m\u001b[0m\u001b[1;33m\u001b[0m\u001b[0m\n",
      "\u001b[1;32m~\\anaconda3\\envs\\kwon\\lib\\site-packages\\torch\\nn\\modules\\conv.py\u001b[0m in \u001b[0;36mforward\u001b[1;34m(self, input)\u001b[0m\n\u001b[0;32m    445\u001b[0m \u001b[1;33m\u001b[0m\u001b[0m\n\u001b[0;32m    446\u001b[0m     \u001b[1;32mdef\u001b[0m \u001b[0mforward\u001b[0m\u001b[1;33m(\u001b[0m\u001b[0mself\u001b[0m\u001b[1;33m,\u001b[0m \u001b[0minput\u001b[0m\u001b[1;33m:\u001b[0m \u001b[0mTensor\u001b[0m\u001b[1;33m)\u001b[0m \u001b[1;33m->\u001b[0m \u001b[0mTensor\u001b[0m\u001b[1;33m:\u001b[0m\u001b[1;33m\u001b[0m\u001b[1;33m\u001b[0m\u001b[0m\n\u001b[1;32m--> 447\u001b[1;33m         \u001b[1;32mreturn\u001b[0m \u001b[0mself\u001b[0m\u001b[1;33m.\u001b[0m\u001b[0m_conv_forward\u001b[0m\u001b[1;33m(\u001b[0m\u001b[0minput\u001b[0m\u001b[1;33m,\u001b[0m \u001b[0mself\u001b[0m\u001b[1;33m.\u001b[0m\u001b[0mweight\u001b[0m\u001b[1;33m,\u001b[0m \u001b[0mself\u001b[0m\u001b[1;33m.\u001b[0m\u001b[0mbias\u001b[0m\u001b[1;33m)\u001b[0m\u001b[1;33m\u001b[0m\u001b[1;33m\u001b[0m\u001b[0m\n\u001b[0m\u001b[0;32m    448\u001b[0m \u001b[1;33m\u001b[0m\u001b[0m\n\u001b[0;32m    449\u001b[0m \u001b[1;32mclass\u001b[0m \u001b[0mConv3d\u001b[0m\u001b[1;33m(\u001b[0m\u001b[0m_ConvNd\u001b[0m\u001b[1;33m)\u001b[0m\u001b[1;33m:\u001b[0m\u001b[1;33m\u001b[0m\u001b[1;33m\u001b[0m\u001b[0m\n",
      "\u001b[1;32m~\\anaconda3\\envs\\kwon\\lib\\site-packages\\torch\\nn\\modules\\conv.py\u001b[0m in \u001b[0;36m_conv_forward\u001b[1;34m(self, input, weight, bias)\u001b[0m\n\u001b[0;32m    441\u001b[0m                             \u001b[0mweight\u001b[0m\u001b[1;33m,\u001b[0m \u001b[0mbias\u001b[0m\u001b[1;33m,\u001b[0m \u001b[0mself\u001b[0m\u001b[1;33m.\u001b[0m\u001b[0mstride\u001b[0m\u001b[1;33m,\u001b[0m\u001b[1;33m\u001b[0m\u001b[1;33m\u001b[0m\u001b[0m\n\u001b[0;32m    442\u001b[0m                             _pair(0), self.dilation, self.groups)\n\u001b[1;32m--> 443\u001b[1;33m         return F.conv2d(input, weight, bias, self.stride,\n\u001b[0m\u001b[0;32m    444\u001b[0m                         self.padding, self.dilation, self.groups)\n\u001b[0;32m    445\u001b[0m \u001b[1;33m\u001b[0m\u001b[0m\n",
      "\u001b[1;31mRuntimeError\u001b[0m: CUDA out of memory. Tried to allocate 176.00 MiB (GPU 0; 4.00 GiB total capacity; 3.31 GiB already allocated; 0 bytes free; 3.39 GiB reserved in total by PyTorch) If reserved memory is >> allocated memory try setting max_split_size_mb to avoid fragmentation.  See documentation for Memory Management and PYTORCH_CUDA_ALLOC_CONF"
     ]
    }
   ],
   "source": [
    "# 손실함수 설정\n",
    "criterion = MultiBoxLoss(jaccard_thresh=0.5, neg_pos=3, device=device)\n",
    "\n",
    "# 최적화 기법 선정\n",
    "optimizer = optim.SGD(net.parameters(), lr=1e-3, \n",
    "                             momentum = 0.9, weight_decay=5e-4)\n",
    "\n",
    "# 학습 및 검증 실시\n",
    "def train_model(net, dataloaders_dict, criterion, optimizer, num_epochs) :\n",
    "    \n",
    "    # GPU 사용 확인\n",
    "    device = torch.device('cuda:0' if torch.cuda.is_available() else 'cpu')\n",
    "    print(f'사용 중인 장치 : {device}')\n",
    "    \n",
    "    # 네트워크를 gpu로\n",
    "    net.to(device)\n",
    "    \n",
    "    # 네트워크가 어느정도 고정되면 고속화\n",
    "    torch.backends.cudnn.benchmark = True\n",
    "    \n",
    "    # 반복자 카운터 설정\n",
    "    iteration = 1\n",
    "    epoch_train_loss = 0.0 # 에포크 손실 합\n",
    "    epoch_val_loss = 0.0 # 에포크 손실 합\n",
    "    logs = []\n",
    "    \n",
    "    \n",
    "    # 에폭 루프\n",
    "    for epoch in range(num_epochs+1) :\n",
    "        \n",
    "        # 시작 시간 저장\n",
    "        t_epoch_start = time.time()\n",
    "        t_iter_start = time.time()\n",
    "        \n",
    "        print('-' * 20)\n",
    "        print(f'Epoch : {epoch+1}/{num_epochs}')\n",
    "        print('-' * 20)\n",
    "        \n",
    "        # 에폭 별 훈련 및 검증 루프\n",
    "        for phase in ['train', 'val'] :\n",
    "            if phase == 'train' :\n",
    "                net.train() # 모델을 훈련 모드로\n",
    "                print('(train)')\n",
    "            else :\n",
    "                if ((epoch+1) % 10  == 0 ) :\n",
    "                    net.eval() # 모델을 검증 모드로\n",
    "                    print('-' * 20)\n",
    "                    print('(val)')\n",
    "                else :\n",
    "                    # 검증은 10 회 중 1회만 실시\n",
    "                    continue\n",
    "                    \n",
    "            # 데이터 로더에서 미니 배치씩 꺼내 루프\n",
    "            for images, targets in dataloaders_dict[phase] :\n",
    "                # GPU를 사용할 수 있으면 GPU에 데이터를 보낸다.\n",
    "                images = images.to(device)\n",
    "                # 리스트 각 요소의 텐서를 GPUㄹ\n",
    "                targets = [ann.to(device) for ann in targets]\n",
    "                # 옵티마이저 초기화\n",
    "                optimizer.zero_grad()\n",
    "                \n",
    "                \n",
    "                # 순전파 계산\n",
    "                with torch.set_grad_enabled(phase=='train') :\n",
    "                    # 순전파 계산\n",
    "                    outputs = net(images)\n",
    "                    loss_l, loss_c = criterion(outputs, targets) \n",
    "                    loss = loss_l + loss_c\n",
    "                    \n",
    "                    # 훈련 시에는 역전파\n",
    "                    if phase == 'train' :\n",
    "                        loss.backward() \n",
    "                        \n",
    "                        # 경사가 너무 커지면 계산이 부정확해 clip에서 최대경사 2.0에 고정\n",
    "                        nn.utils.clip_grad_value_(net.parameters(), clip_value=2.0)\n",
    "                        \n",
    "                        optimizer.step() # 파라미터 갱신\n",
    "                        \n",
    "                        if (iteration % 10 == 0) : # 10 iter에 한 번 손실 표시\n",
    "                            t_iter_finish = time.time()\n",
    "                            duration = t_iter_finish - t_iter_start\n",
    "                            print(f'반복 {iteration}  || Loss : {loss.item():.4f} || 10 iter : {duration:.4f} \\sec.')\n",
    "\n",
    "                            t_iter_start =time.time()\n",
    "                            \n",
    "                        epoch_train_loss += loss.item()\n",
    "                        iteration += 1\n",
    "                        \n",
    "                    # 검증 시\n",
    "                    else :\n",
    "                        epoch_val_loss += loss.item()\n",
    "                        \n",
    "            \n",
    "            # epoch의 phase당 손실과 정답률\n",
    "            t_epoch_finish = time.time()\n",
    "            print('-' * 20)\n",
    "            print(f'epoch {epoch+1} || Epoch_Train_loss : {epoch_train_loss:.4f} || Epoch_val_loss : {epoch_val_loss:.4f}')\n",
    "            \n",
    "            print(f'timer : {t_epoch_finish - t_epoch_start:.4f} sec')\n",
    "            \n",
    "            # 로그 저장\n",
    "            loc_epoch = {'epoch' : epoch + 1,\n",
    "                        'train_loss' : epcoh_train_loss,\n",
    "                        'val_loss' : epoch_val_loss}\n",
    "            los.append(los_epoch)\n",
    "            df = pd.DataFrame(logs)\n",
    "            df.to_csv('log_output.csv')\n",
    "            \n",
    "            epoch_train_loss = 0.0 # 에폭 손실 합\n",
    "            epoch_val_loss = 0.0 # 에폭 손실 합\n",
    "            \n",
    "            # 네트워크 저장\n",
    "            if ((epoch + 1) % 10 == 0 ) :\n",
    "                torch.save(net.state_dict(), './weights/ssd300_' + str(epoch+1) + '.pth')\n",
    "\n",
    "                \n",
    "# 학습 및 검증 실시\n",
    "num_epochs = 50\n",
    "train_model(net, dataloaders_dict, criterion, optimizer, num_epochs = num_epochs)"
   ]
  },
  {
   "cell_type": "markdown",
   "id": "3e32e979-0491-4d71-8b36-2de6791d3df0",
   "metadata": {},
   "source": [
    "# 추론"
   ]
  },
  {
   "cell_type": "code",
   "execution_count": null,
   "id": "9086c90e-47ec-437e-a175-f2da32ff83b9",
   "metadata": {},
   "outputs": [],
   "source": [
    "voc_classes = ['aeroplane', 'bicycle', 'bird', 'boat', 'bottle', 'bus', 'car', 'cat',\n",
    "              'chair', 'cow', 'diningtable', 'dog', 'horse', 'motorbike', 'person', 'pottedplant',\n",
    "              'sheep','sofa','train','tvmonitor']\n",
    "\n",
    "# SSD 300 설정\n",
    "\n",
    "ssd_cfg = {\n",
    "    'num_classes' : 21,\n",
    "    'input_size' : 300,\n",
    "    'bbox_aspect_num' : [4, 6, 6, 6, 4, 4], # 출력할 DBox 화면비 종류\n",
    "    'feature_maps' : [38, 19, 10, 5, 3, 1], # 각 source의 화상 크기\n",
    "    'steps' : [8, 16, 32, 64, 100, 300], # DBox 크기 결정\n",
    "    'min_sizes' : [30, 60, 111, 162, 213, 264], # DBox 크기 결정\n",
    "    'max_sizes' : [60, 111, 162, 213, 264, 315], # DBox 크기 결정\n",
    "    'aspect_ratios' : [[2], [2,3], [2,3], [2,3], [2], [2]],\n",
    "}\n",
    "\n",
    "# SSD 네트워크 모델\n",
    "net = SSD(phase='inference', cfg=ssd_cfg)\n",
    "\n",
    "# SSD의 학습된 가중치 설정\n",
    "# net_weights = torch.load('./pytorch_advanced/objectdetection/weights/ssd300_50.pth',\n",
    "#                         map_location={'cuda:0' : 'cpu'})\n",
    "\n",
    "net_weights = torch.load('./pytorch_advanced/objectdetection/weights/ssd300_mAP_77.43_v2.pth',\n",
    "                        map_location={'cuda:0' : 'cpu'})\n",
    "\n",
    "net.load_state_dict(net_weights)\n",
    "\n",
    "print('네트워크 설정 완료 : 학습 가중치를 로드했습니다.')"
   ]
  },
  {
   "cell_type": "markdown",
   "id": "5ec28d6c-80d7-4cc0-bead-150d267bd8aa",
   "metadata": {},
   "source": [
    "# 이미지 읽기"
   ]
  },
  {
   "cell_type": "code",
   "execution_count": null,
   "id": "3867b9ad-d298-472c-b228-bca3f29d8dda",
   "metadata": {},
   "outputs": [],
   "source": [
    "# 1. 화상 읽기\n",
    "\n",
    "image_file_path = './pytorch_advanced/objectdetection/data/cowboy-757575_640.jpg'\n",
    "img = cv2.imread(image_file_path) # [높이][폭][색BGR]\n",
    "height, width, channels = img.shape # 이미지 크기 취득\n",
    "\n",
    "# 2. 원본 화상 표시\n",
    "plt.imshow(cv2.cvtColor(img, cv2.COLOR_BGR2RGB))\n",
    "plt.show()\n",
    "\n",
    "# 3. 전처리 클래스 작성\n",
    "color_mean = (104, 117, 123) # BGR 색 평균값\n",
    "input_size= 300 # 화상 크기를 300*300 으로 설정\n",
    "transform = DataTransform(input_size, color_mean)\n",
    "\n",
    "# 4. 전처리\n",
    "phase = 'val'\n",
    "img_transformed, boxes, labels = transform(img, phase, '', '' ) # 어노테이션은 없어 \"\"으로 설정\n",
    "img = torch.from_numpy(img_transformed[:, :, (2, 1, 0)]).permute(2, 0, 1)\n",
    "\n",
    "# 5. SSD로 예측\n",
    "net.eval() # 네트워크를 추론 모드로\n",
    "\n",
    "x = img.unsqueeze(0) # 미니 배치화 : torch.Size([1, 3, 300, 300])\n",
    "\n",
    "detections = net(x)\n",
    "\n",
    "print(detections.shape)\n",
    "print(detections)"
   ]
  },
  {
   "cell_type": "markdown",
   "id": "6dc33aa5-6d4b-48e6-bf13-ec8073fdaf57",
   "metadata": {},
   "source": [
    "# SSD에서의 예측과 이미지 표시"
   ]
  },
  {
   "cell_type": "code",
   "execution_count": null,
   "id": "91771563-1060-4887-b76e-42c16ec15b7b",
   "metadata": {},
   "outputs": [],
   "source": [
    "# pytorch_advanced/2_objectdetection/utils/ssd_predict_show.py\n",
    "class SSDPredictShow(): \n",
    "    \"\"\"SSD에서의 예측과 이미지 표시를 한꺼번에 하는 클래스\"\"\"\n",
    "\n",
    "    def __init__(self, eval_categories, net):\n",
    "        self.eval_categories = eval_categories  # 클래스명\n",
    "        self.net = net  # SSD 네트워크\n",
    "\n",
    "        color_mean = (104, 117, 123)  # (BGR)색상의 평균치\n",
    "        input_size = 300  # 사진의 input 크기를 300 × 300으로 한다.\n",
    "        self.transform = DataTransform(input_size, color_mean)  # 전처리 클래스\n",
    "\n",
    "    def show(self, image_file_path, data_confidence_level):\n",
    "        \"\"\"\n",
    "        물체 검출의 예측 결과를 표시하는 함수.\n",
    "        Parameters\n",
    "        ----------\n",
    "        image_file_path:  str\n",
    "            이미지 파일 경로\n",
    "        data_confidence_level: float\n",
    "            예측으로 발견할 수 있는 확신도의 역치\n",
    "        Returns\n",
    "        -------\n",
    "        없음. rgb_img에 물체검출결과가 더해진 화상이 나타난다.\n",
    "        \"\"\"\n",
    "        rgb_img, predict_bbox, pre_dict_label_index, scores = self.ssd_predict(\n",
    "            image_file_path, data_confidence_level)\n",
    "\n",
    "        self.vis_bbox(rgb_img, bbox=predict_bbox, label_index=pre_dict_label_index,\n",
    "                      scores=scores, label_names=self.eval_categories)\n",
    "\n",
    "    def ssd_predict(self, image_file_path, data_confidence_level=0.5):\n",
    "        \"\"\"\n",
    "        SSD에서 예측시키는 함수.\n",
    "        Parameters\n",
    "        ----------\n",
    "        image_file_path:  strt\n",
    "            이미지 파일 경로\n",
    "        dataconfidence_level: float\n",
    "            예측으로 발견할 수 있는 확신도의 역치\n",
    "        Returns\n",
    "        -------\n",
    "        rgb_img, true_bbox, true_label_index, predict_bbox, pre_dict_label_index, scores\n",
    "        \"\"\"\n",
    "\n",
    "        # rgb 이미지 데이터 가져오기\n",
    "        img = cv2.imread(image_file_path)  # [높이] [폭] [색상BGR]\n",
    "        height, width, channels = img.shape  # 이미지 크기 가져오기\n",
    "        rgb_img = cv2.cvtColor(img, cv2.COLOR_BGR2RGB)\n",
    "\n",
    "        # 화상 전처리\n",
    "        phase = \"val\"\n",
    "        img_transformed, boxes, labels = self.transform(\n",
    "            img, phase, \"\", \"\")  # 어노테이션이 존재하지 않기 때문에 \"\"로 한다\n",
    "        img = torch.from_numpy(\n",
    "            img_transformed[:, :, (2, 1, 0)]).permute(2, 0, 1)\n",
    "\n",
    "        # SSD로 예측\n",
    "        self.net.eval()  # 네트워크를 추론 모드로\n",
    "        x = img.unsqueeze(0)  # 미니 배치 화：torch.Size([1, 3, 300, 300])\n",
    "\n",
    "        detections = self.net(x)\n",
    "        # detections의 형태는 torch.Size (1, 21, 200, 5]) ※200은 top_k 의 값\n",
    "\n",
    "        # confidence_level 이 기준 이상을 꺼냄\n",
    "        predict_bbox = []\n",
    "        pre_dict_label_index = []\n",
    "        scores = []\n",
    "        detections = detections.cpu().detach().numpy()\n",
    "\n",
    "        # 조건 이상의 값을 추출\n",
    "        find_index = np.where(detections[:, 0:, :, 0] >= data_confidence_level)\n",
    "        detections = detections[find_index]\n",
    "        for i in range(len(find_index[1])):  # 추출한 물체 수만큼 루프\n",
    "            if (find_index[1][i]) > 0:  # 배경 클래스가 아닌 것\n",
    "                sc = detections[i][0]  # 확신도\n",
    "                bbox = detections[i][1:] * [width, height, width, height]\n",
    "                # find_index는 미니뱃지 수, 클래스, top의 tuple\n",
    "                lable_ind = find_index[1][i]-1\n",
    "                ## (주석)\n",
    "                # 배경반이 0이므로 1을 뺀다\n",
    "\n",
    "                # 반환 값 리스트에 추가\n",
    "                predict_bbox.append(bbox)\n",
    "                pre_dict_label_index.append(lable_ind)\n",
    "                scores.append(sc)\n",
    "\n",
    "        return rgb_img, predict_bbox, pre_dict_label_index, scores\n",
    "\n",
    "    def vis_bbox(self, rgb_img, bbox, label_index, scores, label_names):\n",
    "        \"\"\"\n",
    "        물체 검출의 예측 결과를 화상으로 표시시키는 함수.\n",
    "        Parameters\n",
    "        ----------\n",
    "        rgb_img: rgb이미지\n",
    "        대상 이미지 데이터\n",
    "        bbox : list\n",
    "        물체의 비폭스 목록\n",
    "        label _ index : list\n",
    "        물체의 라벨에 대한 인덱스\n",
    "        scores : list\n",
    "        물체의 확신도\n",
    "        label _ names : list\n",
    "        라벨명의 배열\n",
    "        Returns\n",
    "        -------\n",
    "        없음. rgb_img에 물체검출결과가 더해진 화상이 나타난다.\n",
    "        \"\"\"\n",
    "        # 테두리의 색 설정\n",
    "        num_classes = len(label_names)  # 클래스 수 (배경 제외)\n",
    "        colors = plt.cm.hsv(np.linspace(0, 1, num_classes)).tolist()\n",
    "\n",
    "        # 이미지 표시\n",
    "        plt.figure(figsize=(10, 10))\n",
    "        plt.imshow(rgb_img)\n",
    "        currentAxis = plt.gca()\n",
    "\n",
    "        # BBox의 루프\n",
    "        for i, bb in enumerate(bbox):\n",
    "\n",
    "            # 라벨 명\n",
    "            label_name = label_names[label_index[i]]\n",
    "            color = colors[label_index[i]]  # クラスごとに別の色の枠を与える\n",
    "\n",
    "            # 테두리에 붙이는 라벨 // 예) person : 0.72\n",
    "            if scores is not None:\n",
    "                sc = scores[i]\n",
    "                display_txt = '%s: %.2f' % (label_name, sc)\n",
    "            else:\n",
    "                display_txt = '%s: ans' % (label_name)\n",
    "\n",
    "            # 테두리 좌표\n",
    "            xy = (bb[0], bb[1])\n",
    "            width = bb[2] - bb[0]\n",
    "            height = bb[3] - bb[1]\n",
    "\n",
    "            # 직사각형을 그림\n",
    "            currentAxis.add_patch(plt.Rectangle(\n",
    "                xy, width, height, fill=False, edgecolor=color, linewidth=2))\n",
    "\n",
    "            # 직사각형 틀의 왼쪽 상단에 라벨을 그림\n",
    "            currentAxis.text(xy[0], xy[1], display_txt, bbox={\n",
    "                             'facecolor': color, 'alpha': 0.5})"
   ]
  },
  {
   "cell_type": "code",
   "execution_count": null,
   "id": "03a272f2-bf1e-495a-b2b7-5e201d1530b7",
   "metadata": {},
   "outputs": [],
   "source": [
    "# 화상 예측\n",
    "\n",
    "img_file_path = '예측할 이미지 경로'\n",
    "\n",
    "# 예측 및 결과를 화상으로 그린다\n",
    "ssd = SSDPredictShow(eval_categories=voc_classes, net=net)\n",
    "ssd.show(img_file_path, data_confidence_level=0.6)"
   ]
  }
 ],
 "metadata": {
  "kernelspec": {
   "display_name": "Python 3 (ipykernel)",
   "language": "python",
   "name": "python3"
  },
  "language_info": {
   "codemirror_mode": {
    "name": "ipython",
    "version": 3
   },
   "file_extension": ".py",
   "mimetype": "text/x-python",
   "name": "python",
   "nbconvert_exporter": "python",
   "pygments_lexer": "ipython3",
   "version": "3.9.7"
  }
 },
 "nbformat": 4,
 "nbformat_minor": 5
}
